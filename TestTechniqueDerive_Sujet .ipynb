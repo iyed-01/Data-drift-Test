{
  "cells": [
    {
      "cell_type": "markdown",
      "id": "b7b7e66e",
      "metadata": {
        "id": "b7b7e66e"
      },
      "source": [
        "<center><img src=\"https://is1-ssl.mzstatic.com/image/thumb/Purple122/v4/05/e7/67/05e76784-3364-b535-7e20-b3f4946a56b6/AppIcon-0-0-1x_U007emarketing-0-0-0-7-0-0-sRGB-0-0-0-GLES2_U002c0-512MB-85-220-0-0.png/434x0w.webp\" style=\"height:150px\"></center>\n",
        "\n",
        "<hr style=\"border-width:2px;border-color:red\">\n",
        "<center><h1>Test Technique Data Scientist</h1></center>\n",
        "<center><h2> Mesure de la dérive </h2></center>\n",
        "<hr style=\"border-width:2px;border-color:red\">\n",
        "\n",
        "# Contexte\n",
        "\n",
        "La **dérive** en apprentissage automatique (ou **\"drift\"** en anglais) fait référence à un **changement dans les données d'entrée ou de sortie d'un modèle** de machine learning **après son entraînement initial**. Cela peut se produire lorsque les données utilisées pour entraîner le modèle ne **reflètent plus la réalité**, ou lorsque **les conditions du problème changent de manière significative**.\n",
        "\n",
        "La dérive des données peut affecter la précision du modèle de manière significative et peut entraîner des erreurs coûteuses dans les prévisions ou les décisions basées sur le modèle. Par conséquent, **il est important de surveiller régulièrement les performances du modèle** et de le mettre à jour en fonction des nouveaux jeux de données ou des nouvelles conditions du problème.\n",
        "\n",
        "# Objectif\n",
        "\n",
        "Dans ce test, vous allez implémenter des métriques permettant de mesurer la dérive d'un modèle dans un usecase de **e-commerce** où nous essayons de prédire le **panier total** (variable **`TotalCart`** : chiffre d'affaire total d'un client sur la période donnée) des clients en fonction des variables suivantes:\n",
        "* **`Age`** : âge du client en années.\n",
        "* **`Seniority`** : ancienneté du client en années.\n",
        "* **`Orders`** : Nombre de commandes effectuées sur la période précédente.\n",
        "* **`Items`** : Nombre d'items commandés sur la période précédente.\n",
        "* **`AverageDiscount`** : Réduction moyenne accordée au client sur la période précédente en pourcentage.\n",
        "* **`TopCategory`** : Catégorie de produits favorite du client.\n",
        "* **`BrowsingTime`** : Temps total passé sur le site web sur la période précédente en secondes.\n",
        "* **`EmailsOpened`** : Nombre de mails marketing ouverts par le client sur la période précédente.\n",
        "* **`SupportInteractions`** : Nombre d'interactions que le client a eu avec le service client sur la période précédente.\n",
        "\n",
        "Le jeu de données est décomposé en 4 périodes correspondant aux 4 trimestres de l'année 2022. Vous trouverez les données correspondant à chaque période dans les fichiers **`period_0.csv`**, **`period_1.csv`**, ..., **`period_3.csv`**.\n",
        "\n",
        "Vous allez d'abord **entraîner et évaluer un modèle de machine learning** sur les données de la **période 0**. On supposera que ce modèle sera utilisé pour effectuer les prédictions de panier total sur toute l'année 2022.\n",
        "\n",
        "Ensuite, vous devrez **implémenter des métriques de dérive** qui vous seront données et **effectuer une analyse** de celle-ci.\n",
        "\n",
        "# Entraînement du modèle\n",
        "\n",
        "* **Entraînez et validez** deux ou trois modèles de votre choix sur les données de la période 0. \n",
        "\n",
        "**Conseils**\n",
        "\n",
        "* Vous serez évalué sur votre **rigueur** et non sur les performances du modèle.\n",
        "\n",
        "\n",
        "* Il n'est pas nécessaire de faire une analyse exploratoire des données.\n",
        "\n",
        "\n",
        "* Il n'est pas nécessaire de faire de recherche d'hyperparamètres optimaux non plus mais vous pouvez le faire si vous le souhaitez."
      ]
    },
    {
      "cell_type": "markdown",
      "source": [
        "# 1er partie"
      ],
      "metadata": {
        "id": "T0W00M810aX0"
      },
      "id": "T0W00M810aX0"
    },
    {
      "cell_type": "markdown",
      "source": [
        "## Imporation des libraries"
      ],
      "metadata": {
        "id": "xtVJIHq7RF7y"
      },
      "id": "xtVJIHq7RF7y"
    },
    {
      "cell_type": "code",
      "source": [
        "import pandas as pd # Manipulation de données tabulaires\n",
        "import numpy as np # Manipulation de tableaux numériques\n",
        "\n",
        "# Visualisation de données #\n",
        "import matplotlib.pyplot as plt \n",
        "import seaborn as sns \n",
        "\n",
        "from sklearn.model_selection import train_test_split # Séperation du Data\n",
        "from sklearn.preprocessing import StandardScaler # normalisation du Data\n",
        "\n",
        "# Importation des modéles\n",
        "from sklearn.ensemble import GradientBoostingRegressor\n",
        "from sklearn.ensemble import RandomForestRegressor\n",
        "from sklearn.linear_model import LinearRegression\n",
        "\n",
        "from sklearn.model_selection import GridSearchCV, cross_val_score # Optimisation des hyperparamètres.\n",
        "from sklearn.metrics import mean_squared_error, r2_score # Evaluation des modéles\n",
        "\n",
        "from statistics import mean # Calcul de la moyenne\n",
        "import time # Calcul du temps d'excution\n",
        "\n",
        "from math import inf"
      ],
      "metadata": {
        "id": "xtjOXrejRFLb"
      },
      "id": "xtjOXrejRFLb",
      "execution_count": 1,
      "outputs": []
    },
    {
      "cell_type": "markdown",
      "source": [
        "## Chargement des données"
      ],
      "metadata": {
        "id": "NFHni8DwR0Ao"
      },
      "id": "NFHni8DwR0Ao"
    },
    {
      "cell_type": "code",
      "source": [
        "period_0 = pd.read_csv('period_0.csv')\n",
        "period_0.head()"
      ],
      "metadata": {
        "colab": {
          "base_uri": "https://localhost:8080/",
          "height": 204
        },
        "id": "oBJ69fGliMWv",
        "outputId": "cf59ed04-40d0-4780-89ba-f3735881bf20"
      },
      "id": "oBJ69fGliMWv",
      "execution_count": 2,
      "outputs": [
        {
          "output_type": "execute_result",
          "data": {
            "text/plain": [
              "   Age  Seniority  Orders  Items  AverageDiscount  \\\n",
              "0   21          2       4      7             0.14   \n",
              "1   22          0       4      5             0.50   \n",
              "2   22          1       2      6             0.37   \n",
              "3   19          0       2      8             0.60   \n",
              "4   25          1       1      5             0.58   \n",
              "\n",
              "                     TopCategory  BrowsingTime  EmailsOpened  \\\n",
              "0       Clothing,Shoes & Jewelry     68.473629             3   \n",
              "1                   Toys & Games     29.258063             1   \n",
              "2  Health, Household & Baby Care     11.515517             0   \n",
              "3                   Toys & Games     74.495861             1   \n",
              "4                   Toys & Games      1.682705             2   \n",
              "\n",
              "   SupportInteractions  TotalCart  \n",
              "0                    2      34.00  \n",
              "1                    0      28.28  \n",
              "2                    0      19.33  \n",
              "3                    0      26.83  \n",
              "4                    1      17.67  "
            ],
            "text/html": [
              "\n",
              "  <div id=\"df-e8d5ddac-2b64-4f0f-968d-527a8c9d84fd\">\n",
              "    <div class=\"colab-df-container\">\n",
              "      <div>\n",
              "<style scoped>\n",
              "    .dataframe tbody tr th:only-of-type {\n",
              "        vertical-align: middle;\n",
              "    }\n",
              "\n",
              "    .dataframe tbody tr th {\n",
              "        vertical-align: top;\n",
              "    }\n",
              "\n",
              "    .dataframe thead th {\n",
              "        text-align: right;\n",
              "    }\n",
              "</style>\n",
              "<table border=\"1\" class=\"dataframe\">\n",
              "  <thead>\n",
              "    <tr style=\"text-align: right;\">\n",
              "      <th></th>\n",
              "      <th>Age</th>\n",
              "      <th>Seniority</th>\n",
              "      <th>Orders</th>\n",
              "      <th>Items</th>\n",
              "      <th>AverageDiscount</th>\n",
              "      <th>TopCategory</th>\n",
              "      <th>BrowsingTime</th>\n",
              "      <th>EmailsOpened</th>\n",
              "      <th>SupportInteractions</th>\n",
              "      <th>TotalCart</th>\n",
              "    </tr>\n",
              "  </thead>\n",
              "  <tbody>\n",
              "    <tr>\n",
              "      <th>0</th>\n",
              "      <td>21</td>\n",
              "      <td>2</td>\n",
              "      <td>4</td>\n",
              "      <td>7</td>\n",
              "      <td>0.14</td>\n",
              "      <td>Clothing,Shoes &amp; Jewelry</td>\n",
              "      <td>68.473629</td>\n",
              "      <td>3</td>\n",
              "      <td>2</td>\n",
              "      <td>34.00</td>\n",
              "    </tr>\n",
              "    <tr>\n",
              "      <th>1</th>\n",
              "      <td>22</td>\n",
              "      <td>0</td>\n",
              "      <td>4</td>\n",
              "      <td>5</td>\n",
              "      <td>0.50</td>\n",
              "      <td>Toys &amp; Games</td>\n",
              "      <td>29.258063</td>\n",
              "      <td>1</td>\n",
              "      <td>0</td>\n",
              "      <td>28.28</td>\n",
              "    </tr>\n",
              "    <tr>\n",
              "      <th>2</th>\n",
              "      <td>22</td>\n",
              "      <td>1</td>\n",
              "      <td>2</td>\n",
              "      <td>6</td>\n",
              "      <td>0.37</td>\n",
              "      <td>Health, Household &amp; Baby Care</td>\n",
              "      <td>11.515517</td>\n",
              "      <td>0</td>\n",
              "      <td>0</td>\n",
              "      <td>19.33</td>\n",
              "    </tr>\n",
              "    <tr>\n",
              "      <th>3</th>\n",
              "      <td>19</td>\n",
              "      <td>0</td>\n",
              "      <td>2</td>\n",
              "      <td>8</td>\n",
              "      <td>0.60</td>\n",
              "      <td>Toys &amp; Games</td>\n",
              "      <td>74.495861</td>\n",
              "      <td>1</td>\n",
              "      <td>0</td>\n",
              "      <td>26.83</td>\n",
              "    </tr>\n",
              "    <tr>\n",
              "      <th>4</th>\n",
              "      <td>25</td>\n",
              "      <td>1</td>\n",
              "      <td>1</td>\n",
              "      <td>5</td>\n",
              "      <td>0.58</td>\n",
              "      <td>Toys &amp; Games</td>\n",
              "      <td>1.682705</td>\n",
              "      <td>2</td>\n",
              "      <td>1</td>\n",
              "      <td>17.67</td>\n",
              "    </tr>\n",
              "  </tbody>\n",
              "</table>\n",
              "</div>\n",
              "      <button class=\"colab-df-convert\" onclick=\"convertToInteractive('df-e8d5ddac-2b64-4f0f-968d-527a8c9d84fd')\"\n",
              "              title=\"Convert this dataframe to an interactive table.\"\n",
              "              style=\"display:none;\">\n",
              "        \n",
              "  <svg xmlns=\"http://www.w3.org/2000/svg\" height=\"24px\"viewBox=\"0 0 24 24\"\n",
              "       width=\"24px\">\n",
              "    <path d=\"M0 0h24v24H0V0z\" fill=\"none\"/>\n",
              "    <path d=\"M18.56 5.44l.94 2.06.94-2.06 2.06-.94-2.06-.94-.94-2.06-.94 2.06-2.06.94zm-11 1L8.5 8.5l.94-2.06 2.06-.94-2.06-.94L8.5 2.5l-.94 2.06-2.06.94zm10 10l.94 2.06.94-2.06 2.06-.94-2.06-.94-.94-2.06-.94 2.06-2.06.94z\"/><path d=\"M17.41 7.96l-1.37-1.37c-.4-.4-.92-.59-1.43-.59-.52 0-1.04.2-1.43.59L10.3 9.45l-7.72 7.72c-.78.78-.78 2.05 0 2.83L4 21.41c.39.39.9.59 1.41.59.51 0 1.02-.2 1.41-.59l7.78-7.78 2.81-2.81c.8-.78.8-2.07 0-2.86zM5.41 20L4 18.59l7.72-7.72 1.47 1.35L5.41 20z\"/>\n",
              "  </svg>\n",
              "      </button>\n",
              "      \n",
              "  <style>\n",
              "    .colab-df-container {\n",
              "      display:flex;\n",
              "      flex-wrap:wrap;\n",
              "      gap: 12px;\n",
              "    }\n",
              "\n",
              "    .colab-df-convert {\n",
              "      background-color: #E8F0FE;\n",
              "      border: none;\n",
              "      border-radius: 50%;\n",
              "      cursor: pointer;\n",
              "      display: none;\n",
              "      fill: #1967D2;\n",
              "      height: 32px;\n",
              "      padding: 0 0 0 0;\n",
              "      width: 32px;\n",
              "    }\n",
              "\n",
              "    .colab-df-convert:hover {\n",
              "      background-color: #E2EBFA;\n",
              "      box-shadow: 0px 1px 2px rgba(60, 64, 67, 0.3), 0px 1px 3px 1px rgba(60, 64, 67, 0.15);\n",
              "      fill: #174EA6;\n",
              "    }\n",
              "\n",
              "    [theme=dark] .colab-df-convert {\n",
              "      background-color: #3B4455;\n",
              "      fill: #D2E3FC;\n",
              "    }\n",
              "\n",
              "    [theme=dark] .colab-df-convert:hover {\n",
              "      background-color: #434B5C;\n",
              "      box-shadow: 0px 1px 3px 1px rgba(0, 0, 0, 0.15);\n",
              "      filter: drop-shadow(0px 1px 2px rgba(0, 0, 0, 0.3));\n",
              "      fill: #FFFFFF;\n",
              "    }\n",
              "  </style>\n",
              "\n",
              "      <script>\n",
              "        const buttonEl =\n",
              "          document.querySelector('#df-e8d5ddac-2b64-4f0f-968d-527a8c9d84fd button.colab-df-convert');\n",
              "        buttonEl.style.display =\n",
              "          google.colab.kernel.accessAllowed ? 'block' : 'none';\n",
              "\n",
              "        async function convertToInteractive(key) {\n",
              "          const element = document.querySelector('#df-e8d5ddac-2b64-4f0f-968d-527a8c9d84fd');\n",
              "          const dataTable =\n",
              "            await google.colab.kernel.invokeFunction('convertToInteractive',\n",
              "                                                     [key], {});\n",
              "          if (!dataTable) return;\n",
              "\n",
              "          const docLinkHtml = 'Like what you see? Visit the ' +\n",
              "            '<a target=\"_blank\" href=https://colab.research.google.com/notebooks/data_table.ipynb>data table notebook</a>'\n",
              "            + ' to learn more about interactive tables.';\n",
              "          element.innerHTML = '';\n",
              "          dataTable['output_type'] = 'display_data';\n",
              "          await google.colab.output.renderOutput(dataTable, element);\n",
              "          const docLink = document.createElement('div');\n",
              "          docLink.innerHTML = docLinkHtml;\n",
              "          element.appendChild(docLink);\n",
              "        }\n",
              "      </script>\n",
              "    </div>\n",
              "  </div>\n",
              "  "
            ]
          },
          "metadata": {},
          "execution_count": 2
        }
      ]
    },
    {
      "cell_type": "code",
      "source": [
        "period_0.describe()"
      ],
      "metadata": {
        "colab": {
          "base_uri": "https://localhost:8080/",
          "height": 297
        },
        "id": "cNBii10eaDod",
        "outputId": "cdb70989-cbe4-449d-c2fb-2a644cc13a00"
      },
      "id": "cNBii10eaDod",
      "execution_count": 3,
      "outputs": [
        {
          "output_type": "execute_result",
          "data": {
            "text/plain": [
              "              Age    Seniority       Orders        Items  AverageDiscount  \\\n",
              "count  1000.00000  1000.000000  1000.000000  1000.000000      1000.000000   \n",
              "mean     24.06900     0.508000     3.011000     5.975000         0.371700   \n",
              "std       5.05943     0.720038     1.731438     2.399194         0.219133   \n",
              "min       7.00000     0.000000     0.000000     1.000000         0.000000   \n",
              "25%      21.00000     0.000000     2.000000     4.000000         0.180000   \n",
              "50%      24.00000     0.000000     3.000000     6.000000         0.380000   \n",
              "75%      27.00000     1.000000     4.000000     7.000000         0.560000   \n",
              "max      41.00000     4.000000     9.000000    15.000000         0.750000   \n",
              "\n",
              "       BrowsingTime  EmailsOpened  SupportInteractions    TotalCart  \n",
              "count   1000.000000   1000.000000          1000.000000  1000.000000  \n",
              "mean      97.949068      0.989000             1.012000    35.884260  \n",
              "std      100.222845      1.002938             1.022204    17.619171  \n",
              "min        0.012724      0.000000             0.000000     0.000000  \n",
              "25%       29.333357      0.000000             0.000000    25.575000  \n",
              "50%       68.037177      1.000000             1.000000    33.655000  \n",
              "75%      127.063901      2.000000             2.000000    43.772500  \n",
              "max      831.026761      5.000000             7.000000   138.880000  "
            ],
            "text/html": [
              "\n",
              "  <div id=\"df-a6d9c602-bc3f-4716-bd2a-4cbb6c925677\">\n",
              "    <div class=\"colab-df-container\">\n",
              "      <div>\n",
              "<style scoped>\n",
              "    .dataframe tbody tr th:only-of-type {\n",
              "        vertical-align: middle;\n",
              "    }\n",
              "\n",
              "    .dataframe tbody tr th {\n",
              "        vertical-align: top;\n",
              "    }\n",
              "\n",
              "    .dataframe thead th {\n",
              "        text-align: right;\n",
              "    }\n",
              "</style>\n",
              "<table border=\"1\" class=\"dataframe\">\n",
              "  <thead>\n",
              "    <tr style=\"text-align: right;\">\n",
              "      <th></th>\n",
              "      <th>Age</th>\n",
              "      <th>Seniority</th>\n",
              "      <th>Orders</th>\n",
              "      <th>Items</th>\n",
              "      <th>AverageDiscount</th>\n",
              "      <th>BrowsingTime</th>\n",
              "      <th>EmailsOpened</th>\n",
              "      <th>SupportInteractions</th>\n",
              "      <th>TotalCart</th>\n",
              "    </tr>\n",
              "  </thead>\n",
              "  <tbody>\n",
              "    <tr>\n",
              "      <th>count</th>\n",
              "      <td>1000.00000</td>\n",
              "      <td>1000.000000</td>\n",
              "      <td>1000.000000</td>\n",
              "      <td>1000.000000</td>\n",
              "      <td>1000.000000</td>\n",
              "      <td>1000.000000</td>\n",
              "      <td>1000.000000</td>\n",
              "      <td>1000.000000</td>\n",
              "      <td>1000.000000</td>\n",
              "    </tr>\n",
              "    <tr>\n",
              "      <th>mean</th>\n",
              "      <td>24.06900</td>\n",
              "      <td>0.508000</td>\n",
              "      <td>3.011000</td>\n",
              "      <td>5.975000</td>\n",
              "      <td>0.371700</td>\n",
              "      <td>97.949068</td>\n",
              "      <td>0.989000</td>\n",
              "      <td>1.012000</td>\n",
              "      <td>35.884260</td>\n",
              "    </tr>\n",
              "    <tr>\n",
              "      <th>std</th>\n",
              "      <td>5.05943</td>\n",
              "      <td>0.720038</td>\n",
              "      <td>1.731438</td>\n",
              "      <td>2.399194</td>\n",
              "      <td>0.219133</td>\n",
              "      <td>100.222845</td>\n",
              "      <td>1.002938</td>\n",
              "      <td>1.022204</td>\n",
              "      <td>17.619171</td>\n",
              "    </tr>\n",
              "    <tr>\n",
              "      <th>min</th>\n",
              "      <td>7.00000</td>\n",
              "      <td>0.000000</td>\n",
              "      <td>0.000000</td>\n",
              "      <td>1.000000</td>\n",
              "      <td>0.000000</td>\n",
              "      <td>0.012724</td>\n",
              "      <td>0.000000</td>\n",
              "      <td>0.000000</td>\n",
              "      <td>0.000000</td>\n",
              "    </tr>\n",
              "    <tr>\n",
              "      <th>25%</th>\n",
              "      <td>21.00000</td>\n",
              "      <td>0.000000</td>\n",
              "      <td>2.000000</td>\n",
              "      <td>4.000000</td>\n",
              "      <td>0.180000</td>\n",
              "      <td>29.333357</td>\n",
              "      <td>0.000000</td>\n",
              "      <td>0.000000</td>\n",
              "      <td>25.575000</td>\n",
              "    </tr>\n",
              "    <tr>\n",
              "      <th>50%</th>\n",
              "      <td>24.00000</td>\n",
              "      <td>0.000000</td>\n",
              "      <td>3.000000</td>\n",
              "      <td>6.000000</td>\n",
              "      <td>0.380000</td>\n",
              "      <td>68.037177</td>\n",
              "      <td>1.000000</td>\n",
              "      <td>1.000000</td>\n",
              "      <td>33.655000</td>\n",
              "    </tr>\n",
              "    <tr>\n",
              "      <th>75%</th>\n",
              "      <td>27.00000</td>\n",
              "      <td>1.000000</td>\n",
              "      <td>4.000000</td>\n",
              "      <td>7.000000</td>\n",
              "      <td>0.560000</td>\n",
              "      <td>127.063901</td>\n",
              "      <td>2.000000</td>\n",
              "      <td>2.000000</td>\n",
              "      <td>43.772500</td>\n",
              "    </tr>\n",
              "    <tr>\n",
              "      <th>max</th>\n",
              "      <td>41.00000</td>\n",
              "      <td>4.000000</td>\n",
              "      <td>9.000000</td>\n",
              "      <td>15.000000</td>\n",
              "      <td>0.750000</td>\n",
              "      <td>831.026761</td>\n",
              "      <td>5.000000</td>\n",
              "      <td>7.000000</td>\n",
              "      <td>138.880000</td>\n",
              "    </tr>\n",
              "  </tbody>\n",
              "</table>\n",
              "</div>\n",
              "      <button class=\"colab-df-convert\" onclick=\"convertToInteractive('df-a6d9c602-bc3f-4716-bd2a-4cbb6c925677')\"\n",
              "              title=\"Convert this dataframe to an interactive table.\"\n",
              "              style=\"display:none;\">\n",
              "        \n",
              "  <svg xmlns=\"http://www.w3.org/2000/svg\" height=\"24px\"viewBox=\"0 0 24 24\"\n",
              "       width=\"24px\">\n",
              "    <path d=\"M0 0h24v24H0V0z\" fill=\"none\"/>\n",
              "    <path d=\"M18.56 5.44l.94 2.06.94-2.06 2.06-.94-2.06-.94-.94-2.06-.94 2.06-2.06.94zm-11 1L8.5 8.5l.94-2.06 2.06-.94-2.06-.94L8.5 2.5l-.94 2.06-2.06.94zm10 10l.94 2.06.94-2.06 2.06-.94-2.06-.94-.94-2.06-.94 2.06-2.06.94z\"/><path d=\"M17.41 7.96l-1.37-1.37c-.4-.4-.92-.59-1.43-.59-.52 0-1.04.2-1.43.59L10.3 9.45l-7.72 7.72c-.78.78-.78 2.05 0 2.83L4 21.41c.39.39.9.59 1.41.59.51 0 1.02-.2 1.41-.59l7.78-7.78 2.81-2.81c.8-.78.8-2.07 0-2.86zM5.41 20L4 18.59l7.72-7.72 1.47 1.35L5.41 20z\"/>\n",
              "  </svg>\n",
              "      </button>\n",
              "      \n",
              "  <style>\n",
              "    .colab-df-container {\n",
              "      display:flex;\n",
              "      flex-wrap:wrap;\n",
              "      gap: 12px;\n",
              "    }\n",
              "\n",
              "    .colab-df-convert {\n",
              "      background-color: #E8F0FE;\n",
              "      border: none;\n",
              "      border-radius: 50%;\n",
              "      cursor: pointer;\n",
              "      display: none;\n",
              "      fill: #1967D2;\n",
              "      height: 32px;\n",
              "      padding: 0 0 0 0;\n",
              "      width: 32px;\n",
              "    }\n",
              "\n",
              "    .colab-df-convert:hover {\n",
              "      background-color: #E2EBFA;\n",
              "      box-shadow: 0px 1px 2px rgba(60, 64, 67, 0.3), 0px 1px 3px 1px rgba(60, 64, 67, 0.15);\n",
              "      fill: #174EA6;\n",
              "    }\n",
              "\n",
              "    [theme=dark] .colab-df-convert {\n",
              "      background-color: #3B4455;\n",
              "      fill: #D2E3FC;\n",
              "    }\n",
              "\n",
              "    [theme=dark] .colab-df-convert:hover {\n",
              "      background-color: #434B5C;\n",
              "      box-shadow: 0px 1px 3px 1px rgba(0, 0, 0, 0.15);\n",
              "      filter: drop-shadow(0px 1px 2px rgba(0, 0, 0, 0.3));\n",
              "      fill: #FFFFFF;\n",
              "    }\n",
              "  </style>\n",
              "\n",
              "      <script>\n",
              "        const buttonEl =\n",
              "          document.querySelector('#df-a6d9c602-bc3f-4716-bd2a-4cbb6c925677 button.colab-df-convert');\n",
              "        buttonEl.style.display =\n",
              "          google.colab.kernel.accessAllowed ? 'block' : 'none';\n",
              "\n",
              "        async function convertToInteractive(key) {\n",
              "          const element = document.querySelector('#df-a6d9c602-bc3f-4716-bd2a-4cbb6c925677');\n",
              "          const dataTable =\n",
              "            await google.colab.kernel.invokeFunction('convertToInteractive',\n",
              "                                                     [key], {});\n",
              "          if (!dataTable) return;\n",
              "\n",
              "          const docLinkHtml = 'Like what you see? Visit the ' +\n",
              "            '<a target=\"_blank\" href=https://colab.research.google.com/notebooks/data_table.ipynb>data table notebook</a>'\n",
              "            + ' to learn more about interactive tables.';\n",
              "          element.innerHTML = '';\n",
              "          dataTable['output_type'] = 'display_data';\n",
              "          await google.colab.output.renderOutput(dataTable, element);\n",
              "          const docLink = document.createElement('div');\n",
              "          docLink.innerHTML = docLinkHtml;\n",
              "          element.appendChild(docLink);\n",
              "        }\n",
              "      </script>\n",
              "    </div>\n",
              "  </div>\n",
              "  "
            ]
          },
          "metadata": {},
          "execution_count": 3
        }
      ]
    },
    {
      "cell_type": "markdown",
      "source": [
        "## Test rapide des données"
      ],
      "metadata": {
        "id": "ORup6eWaSEWS"
      },
      "id": "ORup6eWaSEWS"
    },
    {
      "cell_type": "code",
      "source": [
        "period_0.isnull().sum() # verifier les valeurs manquantes"
      ],
      "metadata": {
        "colab": {
          "base_uri": "https://localhost:8080/"
        },
        "id": "x1j4ggNuQP68",
        "outputId": "af4024d7-b1d1-4ee7-caad-e9abf9e2bf1a"
      },
      "id": "x1j4ggNuQP68",
      "execution_count": 4,
      "outputs": [
        {
          "output_type": "execute_result",
          "data": {
            "text/plain": [
              "Age                    0\n",
              "Seniority              0\n",
              "Orders                 0\n",
              "Items                  0\n",
              "AverageDiscount        0\n",
              "TopCategory            0\n",
              "BrowsingTime           0\n",
              "EmailsOpened           0\n",
              "SupportInteractions    0\n",
              "TotalCart              0\n",
              "dtype: int64"
            ]
          },
          "metadata": {},
          "execution_count": 4
        }
      ]
    },
    {
      "cell_type": "markdown",
      "source": [
        "Le résultat affiché montre qu'il n'y a aucune valeur manquante dans notre dataset."
      ],
      "metadata": {
        "id": "GgKWwnWw5z4o"
      },
      "id": "GgKWwnWw5z4o"
    },
    {
      "cell_type": "code",
      "source": [
        "period_0._get_numeric_data().columns  # voir les variables numeriques"
      ],
      "metadata": {
        "colab": {
          "base_uri": "https://localhost:8080/"
        },
        "id": "bkfQTaKVQSgD",
        "outputId": "e1b9821b-5147-463a-bdfa-fa11f72f61a8"
      },
      "id": "bkfQTaKVQSgD",
      "execution_count": 5,
      "outputs": [
        {
          "output_type": "execute_result",
          "data": {
            "text/plain": [
              "Index(['Age', 'Seniority', 'Orders', 'Items', 'AverageDiscount',\n",
              "       'BrowsingTime', 'EmailsOpened', 'SupportInteractions', 'TotalCart'],\n",
              "      dtype='object')"
            ]
          },
          "metadata": {},
          "execution_count": 5
        }
      ]
    },
    {
      "cell_type": "markdown",
      "source": [
        "On remarque qu'on a une variable catégorielle nommée 'TopCategory'. "
      ],
      "metadata": {
        "id": "HaNJ78VWywFO"
      },
      "id": "HaNJ78VWywFO"
    },
    {
      "cell_type": "markdown",
      "source": [
        "## Preparation des données "
      ],
      "metadata": {
        "id": "og_KJZWKSMoL"
      },
      "id": "og_KJZWKSMoL"
    },
    {
      "cell_type": "code",
      "source": [
        "# Encoder la variable catégorielle 'TopCategory' (one-hot encoding)\n",
        "period_0_encoded = pd.get_dummies(period_0, columns=['TopCategory'])\n",
        "period_0_encoded.head()\n",
        "# diviser le data en input features et target variable\n",
        "X = period_0_encoded.drop('TotalCart', axis=1)\n",
        "y = period_0_encoded['TotalCart']"
      ],
      "metadata": {
        "id": "IaKi6aAdiRTm"
      },
      "id": "IaKi6aAdiRTm",
      "execution_count": 6,
      "outputs": []
    },
    {
      "cell_type": "code",
      "source": [
        "y.describe() # analyser l'echelle du target variable"
      ],
      "metadata": {
        "colab": {
          "base_uri": "https://localhost:8080/"
        },
        "id": "G2gXh2xwZzeT",
        "outputId": "9726d09a-7e2c-4e28-d6d9-7a59e8340251"
      },
      "id": "G2gXh2xwZzeT",
      "execution_count": 7,
      "outputs": [
        {
          "output_type": "execute_result",
          "data": {
            "text/plain": [
              "count    1000.000000\n",
              "mean       35.884260\n",
              "std        17.619171\n",
              "min         0.000000\n",
              "25%        25.575000\n",
              "50%        33.655000\n",
              "75%        43.772500\n",
              "max       138.880000\n",
              "Name: TotalCart, dtype: float64"
            ]
          },
          "metadata": {},
          "execution_count": 7
        }
      ]
    },
    {
      "cell_type": "code",
      "source": [
        "X_train, X_test, y_train, y_test = train_test_split(X, y, test_size=0.2, random_state=42) # diviser les données en tarining set et test set (avec 20% en test)"
      ],
      "metadata": {
        "id": "BAsK69RiiYvm"
      },
      "id": "BAsK69RiiYvm",
      "execution_count": 8,
      "outputs": []
    },
    {
      "cell_type": "code",
      "source": [
        "print(y_train.shape, y_test.shape) # test"
      ],
      "metadata": {
        "colab": {
          "base_uri": "https://localhost:8080/"
        },
        "id": "q7YCP1UVgeb9",
        "outputId": "22a217e9-4eca-4fe2-feea-30317e3f3835"
      },
      "id": "q7YCP1UVgeb9",
      "execution_count": 9,
      "outputs": [
        {
          "output_type": "stream",
          "name": "stdout",
          "text": [
            "(800,) (200,)\n"
          ]
        }
      ]
    },
    {
      "cell_type": "markdown",
      "source": [
        "## Training des modéles"
      ],
      "metadata": {
        "id": "ZvdZMm7fSYMB"
      },
      "id": "ZvdZMm7fSYMB"
    },
    {
      "cell_type": "markdown",
      "source": [
        "Après la preparation des données, on passe à l'entrainement des modèles de d'apprentissage automatique en faisant la recherche d'hyperparamètres optimaux (Grille search)"
      ],
      "metadata": {
        "id": "PmYb_7OES-vm"
      },
      "id": "PmYb_7OES-vm"
    },
    {
      "cell_type": "markdown",
      "source": [
        "Pour cette étape, on va utiliser trois différents modèles : \n",
        "\n",
        "*   *Random Forest Regressor* :  un algorithme d'apprentissage automatique qui combine plusieurs arbres de décision pour prédire une variable continue. Il utilise la moyenne des prédictions de chaque arbre pour améliorer la précision de la prédiction. \n",
        "\n",
        "*   *Gradient Boosting Regressor* : Le gradient boosting regressor est un algorithme d'apprentissage automatique qui utilise une combinaison de modèles de prédiction faibles pour améliorer la précision de la prédiction d'une variable continue. Il utilise une méthode de descente de gradient pour ajuster les modèles et minimiser l'erreur résiduelle. \n",
        "\n",
        "*   *Linear Regression* : La régression linéaire est un algorithme d'apprentissage automatique qui modélise la relation linéaire entre une variable dépendante continue et une ou plusieurs variables indépendantes. Elle est utilisée pour prédire la valeur d'une variable dépendante en fonction de la valeur des variables indépendantes.\n",
        "\n",
        "\n",
        "\n"
      ],
      "metadata": {
        "id": "XKJDtzs-C1VI"
      },
      "id": "XKJDtzs-C1VI"
    },
    {
      "cell_type": "markdown",
      "source": [
        "Pour la validation et l'evaluation des ces modéles, on va calculer : \n",
        "\n",
        "*   *R2 score* : Le R2 score, également connu sous le nom de coefficient de détermination, est une mesure de l'ajustement du modèle aux données. Il représente la proportion de la variance totale de la variable dépendante qui est expliquée par le modèle. Le R2 score peut varier de 0 à 1, où une valeur de 1 indique une bonne correspondance entre les prévisions du modèle et les données réelles.\n",
        "\n",
        "  La formule pour calculer le R2 score est :\n",
        "\n",
        "  \\begin{equation}\n",
        "  R^2 = 1 - \\frac{SSE}{SST}\n",
        "  \\end{equation}\n",
        "\n",
        "  Où SSE est la somme des carrés des erreurs et SST est la somme totale des carrés.\n",
        "\n",
        "\n",
        "*   *Mean Squared Error (MSE)* :  MSE est une mesure de l'erreur quadratique moyenne entre les prévisions du modèle et les valeurs réelles. Elle calcule la moyenne de la différence au carré entre chaque prédiction et sa valeur réelle, ce qui permet de mesurer l'efficacité du modèle.\n",
        "  \\begin{equation}\n",
        "MSE = \\frac{1}{n} \\sum_{i=1}^{n}(y_i - \\hat{y_i})^2\n",
        "\\end{equation}\n",
        "\n",
        "  Où y est la valeur réelle, $\\hat{y}$ est la valeur prédite par le modèle, et n est le nombre total d'observations dans l'échantillon.\n"
      ],
      "metadata": {
        "id": "I4BNX5bYFGga"
      },
      "id": "I4BNX5bYFGga"
    },
    {
      "cell_type": "markdown",
      "source": [
        "### Random Forest Regressor"
      ],
      "metadata": {
        "id": "czcPkvi7SfG4"
      },
      "id": "czcPkvi7SfG4"
    },
    {
      "cell_type": "code",
      "source": [
        "# Definir le hyperparameter grid \n",
        "param_grid_rf = {'n_estimators': [100, 200, 300],\n",
        "              'max_depth': [None, 5, 10],\n",
        "              'max_features': [ 1.0, 'sqrt', 'log2']}\n",
        "\n",
        "# Instancier le modèle et effectuer grid search\n",
        "rf_model = RandomForestRegressor(random_state=42)\n",
        "rf_grid = GridSearchCV(estimator=rf_model, param_grid=param_grid_rf, cv=5)\n",
        "\n",
        "# Enregistrer l'heure de début\n",
        "start_time = time.time()\n",
        "\n",
        "rf_grid.fit(X_train, y_train) # training\n",
        "\n",
        "# Enregistrer l'heure de fin\n",
        "end_time = time.time()\n",
        "\n",
        "# Calculer le temps d'exécution\n",
        "execution_time = end_time - start_time\n",
        "\n",
        "print(\"Le temps d'exécution est de {} secondes\".format(execution_time))\n",
        "\n",
        "# Evaluer le meilleur modèle sur le training set\n",
        "rf_train_score = rf_grid.score(X_train, y_train)\n",
        "print('Random Forest Regressor training score:', rf_train_score)\n",
        "\n",
        "# Evaluer le meilleur modèle sur le test set\n",
        "rf_test_score = rf_grid.score(X_test, y_test)\n",
        "print('Random Forest Regressor test score:', rf_test_score)\n",
        "\n",
        "# Calculer le MSE sur le test set\n",
        "y_test_pred = rf_grid.predict(X_test)\n",
        "mse_test = mean_squared_error(y_test, y_test_pred)\n",
        "print('MSE sur le test set:', mse_test)\n",
        "\n",
        "\n",
        "# Calculer le MSE sur chaque validation set\n",
        "mse_cv_scores = []\n",
        "for i in range(len(rf_grid.cv_results_['params'])):\n",
        "    params = rf_grid.cv_results_['params'][i]\n",
        "    mse = rf_grid.cv_results_['mean_test_score'][i]\n",
        "    #print(f\"MSE sur la validation set {i+1} ({params}): {mse}\")\n",
        "    mse_cv_scores.append(mse)\n",
        "\n",
        "#print('Moyenne de MSE:', mean(mse_cv_scores))\n",
        "\n",
        "\n"
      ],
      "metadata": {
        "colab": {
          "base_uri": "https://localhost:8080/"
        },
        "id": "e3mYOTz2ibMe",
        "outputId": "8d29fc34-f08c-446d-f47c-18900560ae98"
      },
      "id": "e3mYOTz2ibMe",
      "execution_count": 10,
      "outputs": [
        {
          "output_type": "stream",
          "name": "stdout",
          "text": [
            "Le temps d'exécution est de 91.08078169822693 secondes\n",
            "Random Forest Regressor training score: 0.9971827768077743\n",
            "Random Forest Regressor test score: 0.9813292083647931\n",
            "MSE sur le test set: 4.522319409938819\n"
          ]
        }
      ]
    },
    {
      "cell_type": "code",
      "source": [
        "# Tracer le nuage de points avec les vraies valeurs sur l'axe x et les prédictions sur l'axe y\n",
        "plt.scatter(y_test, y_test_pred, alpha=0.5)\n",
        "\n",
        "# Ajouter une ligne diagonale pour représenter la relation linéaire parfaite\n",
        "max_val = max(np.max(y_test), np.max(y_test_pred))\n",
        "plt.plot([0, max_val], [0, max_val], '--', color='red', linewidth=1)\n",
        "\n",
        "# Ajouter des étiquettes d'axe et un titre\n",
        "plt.xlabel('Vraies valeurs')\n",
        "plt.ylabel('Prédictions')\n",
        "plt.title('Nuage de points des prédictions')\n",
        "plt.show()"
      ],
      "metadata": {
        "colab": {
          "base_uri": "https://localhost:8080/",
          "height": 295
        },
        "id": "mst56tHhnwPA",
        "outputId": "c2aa7736-19a1-431b-9287-a21f2975f4fc"
      },
      "id": "mst56tHhnwPA",
      "execution_count": 11,
      "outputs": [
        {
          "output_type": "display_data",
          "data": {
            "text/plain": [
              "<Figure size 432x288 with 1 Axes>"
            ],
            "image/png": "[encoded data removed]"
          },
          "metadata": {
            "needs_background": "light"
          }
        }
      ]
    },
    {
      "cell_type": "markdown",
      "source": [
        "### Gradient Boosting Regressor"
      ],
      "metadata": {
        "id": "jRrpAfbXSnlx"
      },
      "id": "jRrpAfbXSnlx"
    },
    {
      "cell_type": "code",
      "source": [
        "# Definir le hyperparameter grid \n",
        "param_grid_xgb = {'n_estimators': [100, 200, 300],\n",
        "              'max_depth': [None, 5, 10],\n",
        "              'learning_rate': [0.01, 0.1, 1.0]}\n",
        "\n",
        "# Instancier le modèle et effectuer grid search\n",
        "gb_model = GradientBoostingRegressor(random_state=42)\n",
        "gb_grid = GridSearchCV(estimator=gb_model, param_grid=param_grid_xgb, cv=5)\n",
        "\n",
        "# Enregistrer l'heure de début\n",
        "start_time = time.time()\n",
        "\n",
        "gb_grid.fit(X_train, y_train) # training\n",
        "\n",
        "# Enregistrer l'heure de fin\n",
        "end_time = time.time()\n",
        "\n",
        "# Calculer le temps d'exécution\n",
        "execution_time = end_time - start_time\n",
        "\n",
        "print(\"Le temps d'exécution est de {} secondes\".format(execution_time))\n",
        "\n",
        "# Evaluer le meilleur modèle sur le training set\n",
        "gb_train_score = gb_grid.score(X_train, y_train)\n",
        "print('Gradient Boosting Regressor training score:', gb_train_score)\n",
        "\n",
        "# Evaluer le meilleur modèle sur le test set\n",
        "gb_test_score = gb_grid.score(X_test, y_test)\n",
        "print('Gradient Boosting Regressor test score:', gb_test_score)\n",
        "\n",
        "# Calculer le MSE sur le test set\n",
        "y_test_pred = gb_grid.predict(X_test)\n",
        "mse_test = mean_squared_error(y_test, y_test_pred)\n",
        "print('MSE sur le test set:', mse_test)\n",
        "\n",
        "# Calculer le MSE sur chaque validation set\n",
        "mse_cv_scores = []\n",
        "for i in range(len(gb_grid.cv_results_['params'])):\n",
        "    params = gb_grid.cv_results_['params'][i]\n",
        "    mse = gb_grid.cv_results_['mean_test_score'][i]\n",
        "    #print(f\"MSE sur la validation set {i+1} ({params}): {mse}\")\n",
        "    mse_cv_scores.append(mse)\n",
        "\n",
        "#print('Moyenne de MSE:', mean(mse_cv_scores))"
      ],
      "metadata": {
        "colab": {
          "base_uri": "https://localhost:8080/"
        },
        "id": "tFjpAHn_ihKd",
        "outputId": "3acb65c1-bb19-4df4-9453-08f5508e6153"
      },
      "id": "tFjpAHn_ihKd",
      "execution_count": 12,
      "outputs": [
        {
          "output_type": "stream",
          "name": "stdout",
          "text": [
            "Le temps d'exécution est de 74.38727045059204 secondes\n",
            "Gradient Boosting Regressor training score: 0.9999673201764662\n",
            "Gradient Boosting Regressor test score: 0.9939527632269524\n",
            "MSE sur le test set: 1.4647229088926637\n"
          ]
        }
      ]
    },
    {
      "cell_type": "code",
      "source": [
        "# Tracer le nuage de points avec les vraies valeurs sur l'axe x et les prédictions sur l'axe y\n",
        "plt.scatter(y_test, y_test_pred, alpha=0.5)\n",
        "\n",
        "# Ajouter une ligne diagonale pour représenter la relation linéaire parfaite\n",
        "max_val = max(np.max(y_test), np.max(y_test_pred))\n",
        "plt.plot([0, max_val], [0, max_val], '--', color='red', linewidth=1)\n",
        "\n",
        "# Ajouter des étiquettes d'axe et un titre\n",
        "plt.xlabel('Vraies valeurs')\n",
        "plt.ylabel('Prédictions')\n",
        "plt.title('Nuage de points des prédictions')\n",
        "plt.show()"
      ],
      "metadata": {
        "colab": {
          "base_uri": "https://localhost:8080/",
          "height": 295
        },
        "id": "2It0IRpLf-qB",
        "outputId": "995364d4-968c-47fc-d067-0c5368f7c867"
      },
      "id": "2It0IRpLf-qB",
      "execution_count": 13,
      "outputs": [
        {
          "output_type": "display_data",
          "data": {
            "text/plain": [
              "<Figure size 432x288 with 1 Axes>"
            ],
            "image/png": "[encoded data removed]"
          },
          "metadata": {
            "needs_background": "light"
          }
        }
      ]
    },
    {
      "cell_type": "markdown",
      "source": [
        "### Linear Regression"
      ],
      "metadata": {
        "id": "pfoqdJ2yS2FN"
      },
      "id": "pfoqdJ2yS2FN"
    },
    {
      "cell_type": "code",
      "source": [
        "# Definir le hyperparameter grid \n",
        "param_grid_lr = {'fit_intercept': [True, False]}\n",
        "\n",
        "# Standardiser les features\n",
        "scaler = StandardScaler()\n",
        "X_train_scaled = scaler.fit_transform(X_train)\n",
        "X_test_scaled = scaler.transform(X_test)\n",
        "\n",
        "# Instancier le modèle et effectuer grid search\n",
        "lr_model = LinearRegression()\n",
        "lr_grid = GridSearchCV(estimator=lr_model, param_grid=param_grid_lr, cv=5)\n",
        "\n",
        "# Enregistrer l'heure de début\n",
        "start_time = time.time()\n",
        "\n",
        "lr_grid.fit(X_train_scaled, y_train) # training\n",
        "\n",
        "# Enregistrer l'heure de fin\n",
        "end_time = time.time()\n",
        "\n",
        "# Calculer le temps d'exécution\n",
        "execution_time = end_time - start_time\n",
        "\n",
        "print(\"Le temps d'exécution est de {} secondes\".format(execution_time))\n",
        "\n",
        "# Evaluer le meilleur modèle sur le training set\n",
        "lr_train_score = lr_grid.score(X_train_scaled, y_train)\n",
        "print('Linear Regression training score:', lr_train_score)\n",
        "\n",
        "# Evaluer le meilleur modèle sur le test set\n",
        "lr_test_score = lr_grid.score(X_test_scaled, y_test)\n",
        "print('Linear Regression test score:', lr_test_score)\n",
        "\n",
        "# Calculer le MSE sur le test set\n",
        "y_test_pred = lr_grid.predict(X_test_scaled)\n",
        "mse_test = mean_squared_error(y_test, y_test_pred)\n",
        "print('MSE sur le test set:', mse_test)\n",
        "\n",
        "# Calculer le MSE sur chaque validation set\n",
        "mse_cv_scores = []\n",
        "for i in range(len(lr_grid.cv_results_['params'])):\n",
        "    params = lr_grid.cv_results_['params'][i]\n",
        "    mse = lr_grid.cv_results_['mean_test_score'][i]\n",
        "    #print(f\"MSE sur la validation set {i+1} ({params}): {mse}\")\n",
        "    mse_cv_scores.append(mse)\n",
        "\n",
        "#print('Moyenne de MSE:', mean(mse_cv_scores))"
      ],
      "metadata": {
        "colab": {
          "base_uri": "https://localhost:8080/"
        },
        "id": "OUOldnddk-Bx",
        "outputId": "a18099e9-2fe5-4d0e-c8ec-5e5f5f4513b5"
      },
      "id": "OUOldnddk-Bx",
      "execution_count": 14,
      "outputs": [
        {
          "output_type": "stream",
          "name": "stdout",
          "text": [
            "Le temps d'exécution est de 0.08665633201599121 secondes\n",
            "Linear Regression training score: 0.7709364373526062\n",
            "Linear Regression test score: 0.9242628734870076\n",
            "MSE sur le test set: 18.344561064933178\n"
          ]
        }
      ]
    },
    {
      "cell_type": "code",
      "source": [
        "# Tracer le nuage de points avec les vraies valeurs sur l'axe x et les prédictions sur l'axe y\n",
        "plt.scatter(y_test, y_test_pred, alpha=0.5)\n",
        "\n",
        "# Ajouter une ligne diagonale pour représenter la relation linéaire parfaite\n",
        "max_val = max(np.max(y_test), np.max(y_test_pred))\n",
        "plt.plot([0, max_val], [0, max_val], '--', color='red', linewidth=1)\n",
        "\n",
        "# Ajouter des étiquettes d'axe et un titre\n",
        "plt.xlabel('Vraies valeurs')\n",
        "plt.ylabel('Prédictions')\n",
        "plt.title('Nuage de points des prédictions')\n",
        "plt.show()"
      ],
      "metadata": {
        "colab": {
          "base_uri": "https://localhost:8080/",
          "height": 295
        },
        "id": "Vh6FO5qNnyNQ",
        "outputId": "9cb02db4-a849-4c86-cf36-35e4cd1bcc44"
      },
      "id": "Vh6FO5qNnyNQ",
      "execution_count": 15,
      "outputs": [
        {
          "output_type": "display_data",
          "data": {
            "text/plain": [
              "<Figure size 432x288 with 1 Axes>"
            ],
            "image/png": "[encoded data removed]"
          },
          "metadata": {
            "needs_background": "light"
          }
        }
      ]
    },
    {
      "cell_type": "markdown",
      "source": [
        "## Analyse des Resultats"
      ],
      "metadata": {
        "id": "eZkxyWttzzIs"
      },
      "id": "eZkxyWttzzIs"
    },
    {
      "cell_type": "markdown",
      "source": [
        "Ces résultats montrent que le modèle de régression linéaire est moins performant que les modèles de random forest et de gradient boosting, avec un score R2 inférieur et une MSE plus élevée. Cela peut être dû au fait que la régression linéaire ne modélise pas les relations non linéaires entre les variables indépendantes et la variable dépendante, contrairement aux modèles de random forest et de gradient boosting qui peuvent modéliser des relations plus complexes.\n",
        "\n",
        "En comparant les résultats des deux modèles (Gradient Boosting et Random Forest), on peut voir que le Gradient Boosting Regressor a une meilleure performance que le Random Forest Regressor, avec un score de test plus élevé et une MSE plus faible. En outre, le temps d'exécution de Random Forest est plus long que celui de Gradient Boosting.\n",
        "\n",
        "Donc, Vu que la performance de Random Forest est légèrement inférieure et le temps d'excution est plus important, Gradient Boosting peut être plus approprié pour etre utilisé dans les parties suivantes.\n",
        "\n"
      ],
      "metadata": {
        "id": "IBABk2GGzUp1"
      },
      "id": "IBABk2GGzUp1"
    },
    {
      "cell_type": "markdown",
      "source": [
        "# 2eme Partie"
      ],
      "metadata": {
        "id": "K70W4i1104hu"
      },
      "id": "K70W4i1104hu"
    },
    {
      "cell_type": "markdown",
      "id": "f92b5619",
      "metadata": {
        "id": "f92b5619"
      },
      "source": [
        "* **Entrainez votre modèle sur toute la période 0** puis **testez votre modèle** sur les données des **périodes 1, 2 et 3**. Comment évolue la performance du modèle?"
      ]
    },
    {
      "cell_type": "markdown",
      "source": [
        "## Chargement des données du Test"
      ],
      "metadata": {
        "id": "5tSo3WtrTkXJ"
      },
      "id": "5tSo3WtrTkXJ"
    },
    {
      "cell_type": "code",
      "source": [
        "period_1 = pd.read_csv('period_1.csv')\n",
        "period_2 = pd.read_csv('period_2.csv')\n",
        "period_3 = pd.read_csv('period_3.csv')"
      ],
      "metadata": {
        "id": "ZWy1b8dhUJMe"
      },
      "id": "ZWy1b8dhUJMe",
      "execution_count": 16,
      "outputs": []
    },
    {
      "cell_type": "markdown",
      "source": [
        "## Training du Gradient boosting regressor"
      ],
      "metadata": {
        "id": "fCwdF-_BVISQ"
      },
      "id": "fCwdF-_BVISQ"
    },
    {
      "cell_type": "code",
      "source": [
        "period_0_encoded.head()"
      ],
      "metadata": {
        "colab": {
          "base_uri": "https://localhost:8080/",
          "height": 0
        },
        "id": "sKWq4MrovLCY",
        "outputId": "b613c51a-ecc3-4177-fda0-3b86a41fdc18"
      },
      "id": "sKWq4MrovLCY",
      "execution_count": 17,
      "outputs": [
        {
          "output_type": "execute_result",
          "data": {
            "text/plain": [
              "   Age  Seniority  Orders  Items  AverageDiscount  BrowsingTime  EmailsOpened  \\\n",
              "0   21          2       4      7             0.14     68.473629             3   \n",
              "1   22          0       4      5             0.50     29.258063             1   \n",
              "2   22          1       2      6             0.37     11.515517             0   \n",
              "3   19          0       2      8             0.60     74.495861             1   \n",
              "4   25          1       1      5             0.58      1.682705             2   \n",
              "\n",
              "   SupportInteractions  TotalCart  TopCategory_Beauty & Personal Care  \\\n",
              "0                    2      34.00                                   0   \n",
              "1                    0      28.28                                   0   \n",
              "2                    0      19.33                                   0   \n",
              "3                    0      26.83                                   0   \n",
              "4                    1      17.67                                   0   \n",
              "\n",
              "   TopCategory_Clothing,Shoes & Jewelry  TopCategory_Electronics  \\\n",
              "0                                     1                        0   \n",
              "1                                     0                        0   \n",
              "2                                     0                        0   \n",
              "3                                     0                        0   \n",
              "4                                     0                        0   \n",
              "\n",
              "   TopCategory_Health, Household & Baby Care  TopCategory_Home & Kitchen  \\\n",
              "0                                          0                           0   \n",
              "1                                          0                           0   \n",
              "2                                          1                           0   \n",
              "3                                          0                           0   \n",
              "4                                          0                           0   \n",
              "\n",
              "   TopCategory_Office Supplies  TopCategory_Pet Supplies  \\\n",
              "0                            0                         0   \n",
              "1                            0                         0   \n",
              "2                            0                         0   \n",
              "3                            0                         0   \n",
              "4                            0                         0   \n",
              "\n",
              "   TopCategory_Sports & outdoors  TopCategory_Toys & Games  \n",
              "0                              0                         0  \n",
              "1                              0                         1  \n",
              "2                              0                         0  \n",
              "3                              0                         1  \n",
              "4                              0                         1  "
            ],
            "text/html": [
              "\n",
              "  <div id=\"df-bd5e63e3-df0e-4af4-8b4b-5f0e0e7d4ac3\">\n",
              "    <div class=\"colab-df-container\">\n",
              "      <div>\n",
              "<style scoped>\n",
              "    .dataframe tbody tr th:only-of-type {\n",
              "        vertical-align: middle;\n",
              "    }\n",
              "\n",
              "    .dataframe tbody tr th {\n",
              "        vertical-align: top;\n",
              "    }\n",
              "\n",
              "    .dataframe thead th {\n",
              "        text-align: right;\n",
              "    }\n",
              "</style>\n",
              "<table border=\"1\" class=\"dataframe\">\n",
              "  <thead>\n",
              "    <tr style=\"text-align: right;\">\n",
              "      <th></th>\n",
              "      <th>Age</th>\n",
              "      <th>Seniority</th>\n",
              "      <th>Orders</th>\n",
              "      <th>Items</th>\n",
              "      <th>AverageDiscount</th>\n",
              "      <th>BrowsingTime</th>\n",
              "      <th>EmailsOpened</th>\n",
              "      <th>SupportInteractions</th>\n",
              "      <th>TotalCart</th>\n",
              "      <th>TopCategory_Beauty &amp; Personal Care</th>\n",
              "      <th>TopCategory_Clothing,Shoes &amp; Jewelry</th>\n",
              "      <th>TopCategory_Electronics</th>\n",
              "      <th>TopCategory_Health, Household &amp; Baby Care</th>\n",
              "      <th>TopCategory_Home &amp; Kitchen</th>\n",
              "      <th>TopCategory_Office Supplies</th>\n",
              "      <th>TopCategory_Pet Supplies</th>\n",
              "      <th>TopCategory_Sports &amp; outdoors</th>\n",
              "      <th>TopCategory_Toys &amp; Games</th>\n",
              "    </tr>\n",
              "  </thead>\n",
              "  <tbody>\n",
              "    <tr>\n",
              "      <th>0</th>\n",
              "      <td>21</td>\n",
              "      <td>2</td>\n",
              "      <td>4</td>\n",
              "      <td>7</td>\n",
              "      <td>0.14</td>\n",
              "      <td>68.473629</td>\n",
              "      <td>3</td>\n",
              "      <td>2</td>\n",
              "      <td>34.00</td>\n",
              "      <td>0</td>\n",
              "      <td>1</td>\n",
              "      <td>0</td>\n",
              "      <td>0</td>\n",
              "      <td>0</td>\n",
              "      <td>0</td>\n",
              "      <td>0</td>\n",
              "      <td>0</td>\n",
              "      <td>0</td>\n",
              "    </tr>\n",
              "    <tr>\n",
              "      <th>1</th>\n",
              "      <td>22</td>\n",
              "      <td>0</td>\n",
              "      <td>4</td>\n",
              "      <td>5</td>\n",
              "      <td>0.50</td>\n",
              "      <td>29.258063</td>\n",
              "      <td>1</td>\n",
              "      <td>0</td>\n",
              "      <td>28.28</td>\n",
              "      <td>0</td>\n",
              "      <td>0</td>\n",
              "      <td>0</td>\n",
              "      <td>0</td>\n",
              "      <td>0</td>\n",
              "      <td>0</td>\n",
              "      <td>0</td>\n",
              "      <td>0</td>\n",
              "      <td>1</td>\n",
              "    </tr>\n",
              "    <tr>\n",
              "      <th>2</th>\n",
              "      <td>22</td>\n",
              "      <td>1</td>\n",
              "      <td>2</td>\n",
              "      <td>6</td>\n",
              "      <td>0.37</td>\n",
              "      <td>11.515517</td>\n",
              "      <td>0</td>\n",
              "      <td>0</td>\n",
              "      <td>19.33</td>\n",
              "      <td>0</td>\n",
              "      <td>0</td>\n",
              "      <td>0</td>\n",
              "      <td>1</td>\n",
              "      <td>0</td>\n",
              "      <td>0</td>\n",
              "      <td>0</td>\n",
              "      <td>0</td>\n",
              "      <td>0</td>\n",
              "    </tr>\n",
              "    <tr>\n",
              "      <th>3</th>\n",
              "      <td>19</td>\n",
              "      <td>0</td>\n",
              "      <td>2</td>\n",
              "      <td>8</td>\n",
              "      <td>0.60</td>\n",
              "      <td>74.495861</td>\n",
              "      <td>1</td>\n",
              "      <td>0</td>\n",
              "      <td>26.83</td>\n",
              "      <td>0</td>\n",
              "      <td>0</td>\n",
              "      <td>0</td>\n",
              "      <td>0</td>\n",
              "      <td>0</td>\n",
              "      <td>0</td>\n",
              "      <td>0</td>\n",
              "      <td>0</td>\n",
              "      <td>1</td>\n",
              "    </tr>\n",
              "    <tr>\n",
              "      <th>4</th>\n",
              "      <td>25</td>\n",
              "      <td>1</td>\n",
              "      <td>1</td>\n",
              "      <td>5</td>\n",
              "      <td>0.58</td>\n",
              "      <td>1.682705</td>\n",
              "      <td>2</td>\n",
              "      <td>1</td>\n",
              "      <td>17.67</td>\n",
              "      <td>0</td>\n",
              "      <td>0</td>\n",
              "      <td>0</td>\n",
              "      <td>0</td>\n",
              "      <td>0</td>\n",
              "      <td>0</td>\n",
              "      <td>0</td>\n",
              "      <td>0</td>\n",
              "      <td>1</td>\n",
              "    </tr>\n",
              "  </tbody>\n",
              "</table>\n",
              "</div>\n",
              "      <button class=\"colab-df-convert\" onclick=\"convertToInteractive('df-bd5e63e3-df0e-4af4-8b4b-5f0e0e7d4ac3')\"\n",
              "              title=\"Convert this dataframe to an interactive table.\"\n",
              "              style=\"display:none;\">\n",
              "        \n",
              "  <svg xmlns=\"http://www.w3.org/2000/svg\" height=\"24px\"viewBox=\"0 0 24 24\"\n",
              "       width=\"24px\">\n",
              "    <path d=\"M0 0h24v24H0V0z\" fill=\"none\"/>\n",
              "    <path d=\"M18.56 5.44l.94 2.06.94-2.06 2.06-.94-2.06-.94-.94-2.06-.94 2.06-2.06.94zm-11 1L8.5 8.5l.94-2.06 2.06-.94-2.06-.94L8.5 2.5l-.94 2.06-2.06.94zm10 10l.94 2.06.94-2.06 2.06-.94-2.06-.94-.94-2.06-.94 2.06-2.06.94z\"/><path d=\"M17.41 7.96l-1.37-1.37c-.4-.4-.92-.59-1.43-.59-.52 0-1.04.2-1.43.59L10.3 9.45l-7.72 7.72c-.78.78-.78 2.05 0 2.83L4 21.41c.39.39.9.59 1.41.59.51 0 1.02-.2 1.41-.59l7.78-7.78 2.81-2.81c.8-.78.8-2.07 0-2.86zM5.41 20L4 18.59l7.72-7.72 1.47 1.35L5.41 20z\"/>\n",
              "  </svg>\n",
              "      </button>\n",
              "      \n",
              "  <style>\n",
              "    .colab-df-container {\n",
              "      display:flex;\n",
              "      flex-wrap:wrap;\n",
              "      gap: 12px;\n",
              "    }\n",
              "\n",
              "    .colab-df-convert {\n",
              "      background-color: #E8F0FE;\n",
              "      border: none;\n",
              "      border-radius: 50%;\n",
              "      cursor: pointer;\n",
              "      display: none;\n",
              "      fill: #1967D2;\n",
              "      height: 32px;\n",
              "      padding: 0 0 0 0;\n",
              "      width: 32px;\n",
              "    }\n",
              "\n",
              "    .colab-df-convert:hover {\n",
              "      background-color: #E2EBFA;\n",
              "      box-shadow: 0px 1px 2px rgba(60, 64, 67, 0.3), 0px 1px 3px 1px rgba(60, 64, 67, 0.15);\n",
              "      fill: #174EA6;\n",
              "    }\n",
              "\n",
              "    [theme=dark] .colab-df-convert {\n",
              "      background-color: #3B4455;\n",
              "      fill: #D2E3FC;\n",
              "    }\n",
              "\n",
              "    [theme=dark] .colab-df-convert:hover {\n",
              "      background-color: #434B5C;\n",
              "      box-shadow: 0px 1px 3px 1px rgba(0, 0, 0, 0.15);\n",
              "      filter: drop-shadow(0px 1px 2px rgba(0, 0, 0, 0.3));\n",
              "      fill: #FFFFFF;\n",
              "    }\n",
              "  </style>\n",
              "\n",
              "      <script>\n",
              "        const buttonEl =\n",
              "          document.querySelector('#df-bd5e63e3-df0e-4af4-8b4b-5f0e0e7d4ac3 button.colab-df-convert');\n",
              "        buttonEl.style.display =\n",
              "          google.colab.kernel.accessAllowed ? 'block' : 'none';\n",
              "\n",
              "        async function convertToInteractive(key) {\n",
              "          const element = document.querySelector('#df-bd5e63e3-df0e-4af4-8b4b-5f0e0e7d4ac3');\n",
              "          const dataTable =\n",
              "            await google.colab.kernel.invokeFunction('convertToInteractive',\n",
              "                                                     [key], {});\n",
              "          if (!dataTable) return;\n",
              "\n",
              "          const docLinkHtml = 'Like what you see? Visit the ' +\n",
              "            '<a target=\"_blank\" href=https://colab.research.google.com/notebooks/data_table.ipynb>data table notebook</a>'\n",
              "            + ' to learn more about interactive tables.';\n",
              "          element.innerHTML = '';\n",
              "          dataTable['output_type'] = 'display_data';\n",
              "          await google.colab.output.renderOutput(dataTable, element);\n",
              "          const docLink = document.createElement('div');\n",
              "          docLink.innerHTML = docLinkHtml;\n",
              "          element.appendChild(docLink);\n",
              "        }\n",
              "      </script>\n",
              "    </div>\n",
              "  </div>\n",
              "  "
            ]
          },
          "metadata": {},
          "execution_count": 17
        }
      ]
    },
    {
      "cell_type": "code",
      "source": [
        "X_train_drift = period_0_encoded.drop('TotalCart', axis=1)\n",
        "y_train_drift = period_0_encoded['TotalCart']"
      ],
      "metadata": {
        "id": "hS9Qkj7Ddg5P"
      },
      "id": "hS9Qkj7Ddg5P",
      "execution_count": 18,
      "outputs": []
    },
    {
      "cell_type": "code",
      "source": [
        "# Definir le hyperparameter grid \n",
        "param_grid_xgb = {'n_estimators': [100, 200, 300],\n",
        "              'max_depth': [None, 5, 10],\n",
        "              'learning_rate': [0.01, 0.1, 1.0]}\n",
        "\n",
        "# Instancier le modèle et effectuer grid search\n",
        "gb_model = GradientBoostingRegressor(random_state=42)\n",
        "gb_grid = GridSearchCV(estimator=gb_model, param_grid=param_grid_xgb, cv=5)\n",
        "gb_grid.fit(X_train_drift, y_train_drift)\n"
      ],
      "metadata": {
        "colab": {
          "base_uri": "https://localhost:8080/",
          "height": 0
        },
        "id": "YIw6uZ2oULgm",
        "outputId": "b3b61bde-28d3-4f41-8e55-e222f99f03c5"
      },
      "id": "YIw6uZ2oULgm",
      "execution_count": 19,
      "outputs": [
        {
          "output_type": "execute_result",
          "data": {
            "text/plain": [
              "GridSearchCV(cv=5, estimator=GradientBoostingRegressor(random_state=42),\n",
              "             param_grid={'learning_rate': [0.01, 0.1, 1.0],\n",
              "                         'max_depth': [None, 5, 10],\n",
              "                         'n_estimators': [100, 200, 300]})"
            ],
            "text/html": [
              "<style>#sk-container-id-1 {color: black;background-color: white;}#sk-container-id-1 pre{padding: 0;}#sk-container-id-1 div.sk-toggleable {background-color: white;}#sk-container-id-1 label.sk-toggleable__label {cursor: pointer;display: block;width: 100%;margin-bottom: 0;padding: 0.3em;box-sizing: border-box;text-align: center;}#sk-container-id-1 label.sk-toggleable__label-arrow:before {content: \"▸\";float: left;margin-right: 0.25em;color: #696969;}#sk-container-id-1 label.sk-toggleable__label-arrow:hover:before {color: black;}#sk-container-id-1 div.sk-estimator:hover label.sk-toggleable__label-arrow:before {color: black;}#sk-container-id-1 div.sk-toggleable__content {max-height: 0;max-width: 0;overflow: hidden;text-align: left;background-color: #f0f8ff;}#sk-container-id-1 div.sk-toggleable__content pre {margin: 0.2em;color: black;border-radius: 0.25em;background-color: #f0f8ff;}#sk-container-id-1 input.sk-toggleable__control:checked~div.sk-toggleable__content {max-height: 200px;max-width: 100%;overflow: auto;}#sk-container-id-1 input.sk-toggleable__control:checked~label.sk-toggleable__label-arrow:before {content: \"▾\";}#sk-container-id-1 div.sk-estimator input.sk-toggleable__control:checked~label.sk-toggleable__label {background-color: #d4ebff;}#sk-container-id-1 div.sk-label input.sk-toggleable__control:checked~label.sk-toggleable__label {background-color: #d4ebff;}#sk-container-id-1 input.sk-hidden--visually {border: 0;clip: rect(1px 1px 1px 1px);clip: rect(1px, 1px, 1px, 1px);height: 1px;margin: -1px;overflow: hidden;padding: 0;position: absolute;width: 1px;}#sk-container-id-1 div.sk-estimator {font-family: monospace;background-color: #f0f8ff;border: 1px dotted black;border-radius: 0.25em;box-sizing: border-box;margin-bottom: 0.5em;}#sk-container-id-1 div.sk-estimator:hover {background-color: #d4ebff;}#sk-container-id-1 div.sk-parallel-item::after {content: \"\";width: 100%;border-bottom: 1px solid gray;flex-grow: 1;}#sk-container-id-1 div.sk-label:hover label.sk-toggleable__label {background-color: #d4ebff;}#sk-container-id-1 div.sk-serial::before {content: \"\";position: absolute;border-left: 1px solid gray;box-sizing: border-box;top: 0;bottom: 0;left: 50%;z-index: 0;}#sk-container-id-1 div.sk-serial {display: flex;flex-direction: column;align-items: center;background-color: white;padding-right: 0.2em;padding-left: 0.2em;position: relative;}#sk-container-id-1 div.sk-item {position: relative;z-index: 1;}#sk-container-id-1 div.sk-parallel {display: flex;align-items: stretch;justify-content: center;background-color: white;position: relative;}#sk-container-id-1 div.sk-item::before, #sk-container-id-1 div.sk-parallel-item::before {content: \"\";position: absolute;border-left: 1px solid gray;box-sizing: border-box;top: 0;bottom: 0;left: 50%;z-index: -1;}#sk-container-id-1 div.sk-parallel-item {display: flex;flex-direction: column;z-index: 1;position: relative;background-color: white;}#sk-container-id-1 div.sk-parallel-item:first-child::after {align-self: flex-end;width: 50%;}#sk-container-id-1 div.sk-parallel-item:last-child::after {align-self: flex-start;width: 50%;}#sk-container-id-1 div.sk-parallel-item:only-child::after {width: 0;}#sk-container-id-1 div.sk-dashed-wrapped {border: 1px dashed gray;margin: 0 0.4em 0.5em 0.4em;box-sizing: border-box;padding-bottom: 0.4em;background-color: white;}#sk-container-id-1 div.sk-label label {font-family: monospace;font-weight: bold;display: inline-block;line-height: 1.2em;}#sk-container-id-1 div.sk-label-container {text-align: center;}#sk-container-id-1 div.sk-container {/* jupyter's `normalize.less` sets `[hidden] { display: none; }` but bootstrap.min.css set `[hidden] { display: none !important; }` so we also need the `!important` here to be able to override the default hidden behavior on the sphinx rendered scikit-learn.org. See: https://github.com/scikit-learn/scikit-learn/issues/21755 */display: inline-block !important;position: relative;}#sk-container-id-1 div.sk-text-repr-fallback {display: none;}</style><div id=\"sk-container-id-1\" class=\"sk-top-container\"><div class=\"sk-text-repr-fallback\"><pre>GridSearchCV(cv=5, estimator=GradientBoostingRegressor(random_state=42),\n",
              "             param_grid={&#x27;learning_rate&#x27;: [0.01, 0.1, 1.0],\n",
              "                         &#x27;max_depth&#x27;: [None, 5, 10],\n",
              "                         &#x27;n_estimators&#x27;: [100, 200, 300]})</pre><b>In a Jupyter environment, please rerun this cell to show the HTML representation or trust the notebook. <br />On GitHub, the HTML representation is unable to render, please try loading this page with nbviewer.org.</b></div><div class=\"sk-container\" hidden><div class=\"sk-item sk-dashed-wrapped\"><div class=\"sk-label-container\"><div class=\"sk-label sk-toggleable\"><input class=\"sk-toggleable__control sk-hidden--visually\" id=\"sk-estimator-id-1\" type=\"checkbox\" ><label for=\"sk-estimator-id-1\" class=\"sk-toggleable__label sk-toggleable__label-arrow\">GridSearchCV</label><div class=\"sk-toggleable__content\"><pre>GridSearchCV(cv=5, estimator=GradientBoostingRegressor(random_state=42),\n",
              "             param_grid={&#x27;learning_rate&#x27;: [0.01, 0.1, 1.0],\n",
              "                         &#x27;max_depth&#x27;: [None, 5, 10],\n",
              "                         &#x27;n_estimators&#x27;: [100, 200, 300]})</pre></div></div></div><div class=\"sk-parallel\"><div class=\"sk-parallel-item\"><div class=\"sk-item\"><div class=\"sk-label-container\"><div class=\"sk-label sk-toggleable\"><input class=\"sk-toggleable__control sk-hidden--visually\" id=\"sk-estimator-id-2\" type=\"checkbox\" ><label for=\"sk-estimator-id-2\" class=\"sk-toggleable__label sk-toggleable__label-arrow\">estimator: GradientBoostingRegressor</label><div class=\"sk-toggleable__content\"><pre>GradientBoostingRegressor(random_state=42)</pre></div></div></div><div class=\"sk-serial\"><div class=\"sk-item\"><div class=\"sk-estimator sk-toggleable\"><input class=\"sk-toggleable__control sk-hidden--visually\" id=\"sk-estimator-id-3\" type=\"checkbox\" ><label for=\"sk-estimator-id-3\" class=\"sk-toggleable__label sk-toggleable__label-arrow\">GradientBoostingRegressor</label><div class=\"sk-toggleable__content\"><pre>GradientBoostingRegressor(random_state=42)</pre></div></div></div></div></div></div></div></div></div></div>"
            ]
          },
          "metadata": {},
          "execution_count": 19
        }
      ]
    },
    {
      "cell_type": "markdown",
      "source": [
        "## Preparation des données du test"
      ],
      "metadata": {
        "id": "KYyW1DchVSlM"
      },
      "id": "KYyW1DchVSlM"
    },
    {
      "cell_type": "code",
      "source": [
        "# Encoder la variable catégorielle 'TopCategory' avec one-hot encoding\n",
        "period_1_encoded = pd.get_dummies(period_1, columns=['TopCategory'])\n",
        "period_2_encoded = pd.get_dummies(period_2, columns=['TopCategory'])\n",
        "period_3_encoded = pd.get_dummies(period_3, columns=['TopCategory'])"
      ],
      "metadata": {
        "id": "kXCpnKTpUxip"
      },
      "id": "kXCpnKTpUxip",
      "execution_count": 20,
      "outputs": []
    },
    {
      "cell_type": "code",
      "source": [
        "# Séparer de la variable cible et des features pour chaque période\n",
        "X_test_1 = period_1_encoded.drop('TotalCart', axis=1)\n",
        "y_test_1 = period_1_encoded['TotalCart']\n",
        "X_test_2 = period_2_encoded.drop('TotalCart', axis=1)\n",
        "y_test_2 = period_2_encoded['TotalCart']\n",
        "X_test_3 = period_3_encoded.drop('TotalCart', axis=1)\n",
        "y_test_3 = period_3_encoded['TotalCart']"
      ],
      "metadata": {
        "id": "sFdqkyhmUZCv"
      },
      "id": "sFdqkyhmUZCv",
      "execution_count": 21,
      "outputs": []
    },
    {
      "cell_type": "markdown",
      "source": [
        "## Performance du modéle et analyse de resultat"
      ],
      "metadata": {
        "id": "8iOu7vwuVYnM"
      },
      "id": "8iOu7vwuVYnM"
    },
    {
      "cell_type": "code",
      "source": [
        "print('______________________________________ Period 1 ______________________________________\\n')\n",
        "# Prédiction sur les données de la période 1\n",
        "y_pred_1 = gb_grid.predict(X_test_1)\n",
        "score_r2_1 = r2_score(y_test_1, y_pred_1)\n",
        "mse_1 = mean_squared_error(y_test_1, y_pred_1)\n",
        "\n",
        "print('Gradient Boosting Regressor MSE score            : ', mse_1)\n",
        "print('Gradient Boosting Regressor test R-squared score : ', score_r2_1,'\\n')\n",
        "print('______________________________________ Period 2 ______________________________________\\n')\n",
        "# Prédiction sur les données de la période 2\n",
        "y_pred_2 = gb_grid.predict(X_test_2)\n",
        "score_r2_2 = r2_score(y_pred_2, y_pred_2)\n",
        "mse_2 = mean_squared_error(y_test_2, y_pred_2)\n",
        "print('Gradient Boosting Regressor MSE score            : ',mse_2)\n",
        "print('Gradient Boosting Regressor test R-squared score :', score_r2_2,'\\n')\n",
        "print('______________________________________ Period 3 ______________________________________\\n')\n",
        "# Prédiction sur les données de la période 3\n",
        "y_pred_3 = gb_grid.predict(X_test_3)\n",
        "score_r2_3 = r2_score(y_test_3, y_pred_3)\n",
        "mse_3 = mean_squared_error(y_test_3, y_pred_3)\n",
        "print('Gradient Boosting Regressor MSE score            : ',mse_3)\n",
        "print('Gradient Boosting Regressor test R-squared score :', score_r2_3)"
      ],
      "metadata": {
        "colab": {
          "base_uri": "https://localhost:8080/"
        },
        "id": "3gfIpimXUC3o",
        "outputId": "389834a0-2b59-47ad-c054-aff09565befe"
      },
      "id": "3gfIpimXUC3o",
      "execution_count": 22,
      "outputs": [
        {
          "output_type": "stream",
          "name": "stdout",
          "text": [
            "______________________________________ Period 1 ______________________________________\n",
            "\n",
            "Gradient Boosting Regressor MSE score            :  62.99987497554372\n",
            "Gradient Boosting Regressor test R-squared score :  0.8216174873020041 \n",
            "\n",
            "______________________________________ Period 2 ______________________________________\n",
            "\n",
            "Gradient Boosting Regressor MSE score            :  78.19920938842394\n",
            "Gradient Boosting Regressor test R-squared score : 1.0 \n",
            "\n",
            "______________________________________ Period 3 ______________________________________\n",
            "\n",
            "Gradient Boosting Regressor MSE score            :  161.5792351652875\n",
            "Gradient Boosting Regressor test R-squared score : 0.7045407250612046\n"
          ]
        }
      ]
    },
    {
      "cell_type": "markdown",
      "source": [
        "Lorsque le modèle est testé sur les données des périodes 1, 2 et 3, on observe une évolution de la performance du modèle comme suit :\n",
        "\n",
        "*   Pour la période 1, le modèle a un MSE de 62.99987497554372, ce qui est beaucoup plus élevé que le MSE obtenu lors de l'entraînement sur la période 0. Cela suggère que le modèle ne se généralise pas très bien à de nouvelles données et qu'il y a peut-être un surajustement sur les données d'entraînement. Le R² score de test de 0.8216174873020041 indique que le modèle explique environ 82 % de la variance dans les données de la période 1.\n",
        "\n",
        "*   Pour la période 2, le modèle a un MSE de 78.19920938842394, ce qui est également plus élevé que le MSE obtenu lors de l'entraînement sur la période 0. Cependant, le R² score de test de 1.0 indique que le modèle explique parfaitement la variance dans les données de la période 2. Cela peut suggérer que les données de la période 2 sont plus faciles à prédire que celles des périodes précédentes.\n",
        "\n",
        "*   Pour la période 3, le modèle a un MSE de 161.5792351652875, ce qui est considérablement plus élevé que les MSE obtenus pour les périodes précédentes. Le R² score de test de 0.7045407250612046 suggère que le modèle explique environ 70 % de la variance dans les données de la période 3, ce qui est inférieur à ce qui a été observé pour la période 1.\n",
        "\n",
        "\n",
        "En général, cela peut indiquer que le modèle a été surentraîné sur la période 0 et ne généralise pas bien aux autres périodes, ce qui peut être un signe de dérive des données. Il est donc important de prendre en compte cette variabilité lors de l'évaluation et de l'interprétation des résultats du modèle, et d'explorer davantage les caractéristiques des données pour chaque période pour mieux comprendre cette variabilité.\n",
        "\n",
        "\n",
        "\n",
        "\n",
        "\n"
      ],
      "metadata": {
        "id": "pYXB3aI_caof"
      },
      "id": "pYXB3aI_caof"
    },
    {
      "cell_type": "markdown",
      "source": [
        "Aussi, on peut tracer les prévisions et les valeurs réelles pour chaque période. Le modèle prédictif utilisé ici est un GradientBoostingRegressor, qui a été entraîné sur les données de la période 0 et testé sur les données des périodes 1, 2 et 3. Les prévisions sont tracées en bleu et les valeurs réelles en orange."
      ],
      "metadata": {
        "id": "mqVY3KYt6EP7"
      },
      "id": "mqVY3KYt6EP7"
    },
    {
      "cell_type": "code",
      "source": [
        "# Graphique des prévisions et des valeurs réelles pour chaque période\n",
        "fig, axs = plt.subplots(3, figsize=(10,12))\n",
        "\n",
        "for i in range(1, 4):\n",
        "    df_name = f\"period_{i}_encoded\"\n",
        "    # Récupérer le data en utilisant period_i\n",
        "    df_i = globals()[df_name]\n",
        "    X_test = df_i.drop('TotalCart', axis=1)\n",
        "    y_test = df_i[\"TotalCart\"]\n",
        "    y_pred = gb_grid.predict(X_test)\n",
        "    axs[i-1].plot(y_test.values, label=\"True\")\n",
        "    axs[i-1].plot(y_pred, label=\"Predicted\")\n",
        "    axs[i-1].legend()\n",
        "    axs[i-1].set_title(\"Période \" + str(i))\n",
        "    axs[i-1].set_xlabel(\"Indice\")\n",
        "    axs[i-1].set_ylabel(\"Valeur de TotalCart\")\n",
        "plt.show()"
      ],
      "metadata": {
        "colab": {
          "base_uri": "https://localhost:8080/",
          "height": 0
        },
        "id": "2Ux9DMOJ52G7",
        "outputId": "52614441-b0a3-4004-8485-230626f0a861"
      },
      "id": "2Ux9DMOJ52G7",
      "execution_count": 23,
      "outputs": [
        {
          "output_type": "display_data",
          "data": {
            "text/plain": [
              "<Figure size 720x864 with 3 Axes>"
            ],
            "image/png": "[encoded data removed]"
          },
          "metadata": {
            "needs_background": "light"
          }
        }
      ]
    },
    {
      "cell_type": "markdown",
      "source": [
        "On constate que les prévisions ne suivent pas bien les valeurs réelles, cela indique que le modèle n'est pas capable de généraliser parfaitement à des données  qu'il n'a pas vues lors de l'entraînement."
      ],
      "metadata": {
        "id": "mGrKAxpu515z"
      },
      "id": "mGrKAxpu515z"
    },
    {
      "cell_type": "markdown",
      "source": [
        "# 3eme Partie"
      ],
      "metadata": {
        "id": "BQH_2NJk1AGC"
      },
      "id": "BQH_2NJk1AGC"
    },
    {
      "cell_type": "markdown",
      "id": "99459d15",
      "metadata": {
        "id": "99459d15"
      },
      "source": [
        "## Mesure de la dérive de variables catégorielles.\n",
        "\n",
        "Pour deux distributions de probabilités discrètes $P$ et $Q$, la **divergence de Kullback–Leibler** de $P$ par rapport à $Q$ est définie par:\n",
        "\n",
        "$$D_\\text{KL}(P \\parallel Q) = \\sum_{x\\in\\mathcal{X}} P(x) \\log\\left(\\frac{P(x)}{Q(x)}\\right)$$\n",
        "\n",
        "\n",
        "On définit la **divergence de Jensen-Shannon** comme une version lisse et symétrique de la divergence de Kullback-Leiber donnée par la formule suivante:\n",
        "\n",
        "$${\\rm JSD}(P \\parallel Q)= \\frac{1}{2}D(P \\parallel M)+\\frac{1}{2}D(Q \\parallel M)$$\n",
        "\n",
        "où $M=\\frac{1}{2}(P+Q)$\n",
        "\n",
        "### Exemple de calcul de $D_\\text{KL}(P \\parallel Q)$ : \n",
        "\n",
        "Soient $P$ =`[0.2, 0.3, 0.5]` et $Q$ =`[0.2, 0.4, 0.4]` deux vecteurs définissant une loi de probabilité discrete. Alors : \n",
        "\n",
        "$$\n",
        "\\begin{equation}\n",
        "\\begin{split}\n",
        "D_\\text{KL}(P \\parallel Q) & = P(0) \\log\\left(\\frac{P(0)}{Q(0)}\\right)\n",
        "                             + P(1) \\log\\left(\\frac{P(1)}{Q(1)}\\right)\n",
        "                             + P(2) \\log\\left(\\frac{P(2)}{Q(2)}\\right)\\\\ \\\\\n",
        "                           & = 0.2 \\log\\left(\\frac{0.2}{0.2}\\right)\n",
        "                             + 0.3 \\log\\left(\\frac{0.3}{0.4}\\right)\n",
        "                             + 0.5 \\log\\left(\\frac{0.5}{0.4}\\right) \\\\ \\\\\n",
        "                           & = 0.02526...\n",
        "\\end{split}\n",
        "\\end{equation}\n",
        "$$\n",
        "\n",
        "### Exercice\n",
        "\n",
        "* Implémenter des fonctions nommées **`KLDivergence(P, Q)`** et **`JSDivergence(P, Q)`** permettant de calculer les métriques définies ci-dessus.\n",
        "\n",
        "**Conseils**:\n",
        "* Utiliser la librairie Numpy permettant de facilement effectuer des calculs d'algèbre linéaire."
      ]
    },
    {
      "cell_type": "code",
      "execution_count": 24,
      "id": "0993e50e",
      "metadata": {
        "id": "0993e50e"
      },
      "outputs": [],
      "source": [
        "P = np.array([0.2, 0.3, 0.5])\n",
        "Q = np.array([0.2, 0.4, 0.4])\n",
        "\n",
        "def KLDivergence(P, Q):\n",
        "    \n",
        "    # Insérez votre code ici\n",
        "    assert len(P) == len(Q), \"Les vecteurs P et Q doivent avoir la même taille.\"\n",
        "    #assert np.all(P), \"P contient des valeurs nulles\"\n",
        "    \n",
        "    return np.sum(P * np.log(P / Q)) \n",
        "\n",
        "def JSDivergence(P, Q):\n",
        "    \n",
        "    # Insérez votre code ici\n",
        "    assert len(P) == len(Q), \"Les vecteurs P et Q doivent avoir la même taille.\"\n",
        "    #assert np.all(P), \"P contient des valeurs nulles\"\n",
        "\n",
        "    M = (P + Q) / 2\n",
        "    \n",
        "    return (KLDivergence(P, M) + KLDivergence(Q, M)) / 2\n",
        "\n",
        "    "
      ]
    },
    {
      "cell_type": "markdown",
      "id": "b288b04e",
      "metadata": {
        "id": "b288b04e"
      },
      "source": [
        "* Lancer la cellule suivante pour tester votre fonction."
      ]
    },
    {
      "cell_type": "code",
      "execution_count": 25,
      "id": "4f5a4969",
      "metadata": {
        "colab": {
          "base_uri": "https://localhost:8080/"
        },
        "id": "4f5a4969",
        "outputId": "455f9d91-b2c4-4449-c7b1-7f88250099b2"
      },
      "outputs": [
        {
          "output_type": "stream",
          "name": "stdout",
          "text": [
            "K-L Divergence: 0.02526715392157057\n",
            "J-S Divergence: 0.006367198333995731\n"
          ]
        }
      ],
      "source": [
        "print(\"K-L Divergence:\", KLDivergence(P, Q))\n",
        "print(\"J-S Divergence:\", JSDivergence(P, Q))"
      ]
    },
    {
      "cell_type": "markdown",
      "id": "675968bf",
      "metadata": {
        "id": "675968bf"
      },
      "source": [
        "## Mesure de la dérive de variables quantitatives.\n",
        "\n",
        "Soit $P$ une mesure empirique d'échantillons $X_1, \\ldots, X_n\n",
        "$ et $Q$ une mesure empirique d'échantillons $Y_1, \\ldots, Y_n$, on définit la **Distance de Wasserstein** d'ordre $p$ par la fonction suivante :\n",
        "\n",
        "$$W_p(P, Q) = \\left( \\frac{1}{n}\\sum_{i=1}^n \\|X_{(i)} - Y_{(i)}\\|^p \\right)^{1/p}$$\n",
        "\n",
        "où $X_{(1)}, \\ldots, X_{(n)}$ et $Y_{(1)}, \\ldots, Y_{(n)}$ sont les [**statistiques d'ordre**](https://en.wikipedia.org/wiki/Order_statistic#Notation_and_examples) des échantillons $X$ et $Y$ et $p$ un nombre entier positif.\n",
        "\n",
        "### Exercice\n",
        "\n",
        "* Implémenter une fonction nommée **`WassersteinDistance(X, Y, p)`** permettant de calculer cette métrique à l'ordre **`p`** à partir de **deux échantillons** **`X`** et **`Y`** que l'on supposera de même longueur.\n",
        "\n",
        "**Conseils**:\n",
        "* Vous pouvez trier les échantillons pour obtenir les statistiques d'ordre."
      ]
    },
    {
      "cell_type": "code",
      "execution_count": 26,
      "id": "107f656a",
      "metadata": {
        "id": "107f656a"
      },
      "outputs": [],
      "source": [
        "def WassersteinDistance(X, Y, p):\n",
        "  \n",
        "    \n",
        "    # Insérez votre code ici\n",
        "\n",
        "    # Tri des échantillons\n",
        "    X_tri = np.sort(X)\n",
        "    Y_tri = np.sort(Y)\n",
        "\n",
        "    # Calcul de la distance de Wasserstein\n",
        "    n = len(X)\n",
        "    Wp = (1/n) * np.sum(np.abs(X_tri - Y_tri)**p)**(1/p)\n",
        "    \n",
        "    return Wp\n",
        "    \n",
        "    \n",
        "    "
      ]
    },
    {
      "cell_type": "markdown",
      "id": "fd06da66",
      "metadata": {
        "id": "fd06da66"
      },
      "source": [
        "* Lancer la cellule suivante pour tester votre fonction."
      ]
    },
    {
      "cell_type": "code",
      "execution_count": 27,
      "id": "11d0e0a5",
      "metadata": {
        "colab": {
          "base_uri": "https://localhost:8080/"
        },
        "id": "11d0e0a5",
        "outputId": "faaf63d6-a6f1-470b-c23b-c94619b85dd5"
      },
      "outputs": [
        {
          "output_type": "execute_result",
          "data": {
            "text/plain": [
              "0.009277845675125648"
            ]
          },
          "metadata": {},
          "execution_count": 27
        }
      ],
      "source": [
        "X = np.random.beta(2, 6, 100)\n",
        "\n",
        "Y = np.random.beta(3, 6, 100)\n",
        "\n",
        "WassersteinDistance(X, Y, 2)"
      ]
    },
    {
      "cell_type": "markdown",
      "source": [
        "# 4eme Partie"
      ],
      "metadata": {
        "id": "qdr8misu1Par"
      },
      "id": "qdr8misu1Par"
    },
    {
      "cell_type": "markdown",
      "id": "12dbe4fc",
      "metadata": {
        "id": "12dbe4fc"
      },
      "source": [
        "## Étude de la dérive du modèle.\n",
        "\n",
        "* En vous appuyant sur les métriques définies précédemment, illustrez et analysez visuellement la **dérive des données** ainsi que **la dérive du modèle** sur les périodes **1 à 3**. \n",
        "\n",
        "\n",
        "* Commenter les visualisations et déterminer si le modèle doit être mis à jour ou si sa performance est toujours acceptable. \n",
        "\n",
        "**Conseils**:\n",
        "* Vous serez évalué sur **la rigueur et le soin** que vous donnerez à votre analyse, et sur **vos capacités à synthéthiser votre étude**. Vous ne serez pas évalué sur vos conclusions.\n",
        "\n",
        "\n",
        "* Vous pouvez normaliser les données par rapport aux **moyennes et variances que vous calculerez sur la période 0** pour que les distances de Wasserstein pour différentes variables soient facilement comparables."
      ]
    },
    {
      "cell_type": "markdown",
      "source": [
        "Pour illustrer et analyser visuellement la dérive des données ainsi que la dérive du modèle sur les périodes 1 à 3, nous allons utiliser les métriques définies précédemment pour mesurer les différences entre les distributions des variables d'intérêt entre les périodes. Nous allons également utiliser des graphiques pour visualiser ces différences.\n",
        "\n",
        "Tout d'abord, nous allons comparer la distribution de la variable TotalCart pour chaque période à l'aide de la distance de Wasserstein. Nous allons comparer chaque période à la période 0, qui est la période d'entraînement du modèle."
      ],
      "metadata": {
        "id": "DnbxC0mPowb2"
      },
      "id": "DnbxC0mPowb2"
    },
    {
      "cell_type": "code",
      "source": [
        "def normalize_data( data ) :\n",
        "  # calculer la moyenne et l'écart type\n",
        "  means = data.mean()\n",
        "  stds = data.std()\n",
        "\n",
        "  # normaliser les données\n",
        "  data_normalized = (data - means) / stds\n",
        "  return data_normalized\n"
      ],
      "metadata": {
        "id": "IAx5hEOCEwvj"
      },
      "id": "IAx5hEOCEwvj",
      "execution_count": 28,
      "outputs": []
    },
    {
      "cell_type": "code",
      "source": [
        "period_0_normalized = normalize_data( period_0.drop('TopCategory', axis = 1) )\n",
        "period_1_normalized = normalize_data( period_1.drop('TopCategory', axis = 1) )\n",
        "period_2_normalized = normalize_data( period_2.drop('TopCategory', axis = 1))\n",
        "period_3_normalized = normalize_data( period_3.drop('TopCategory', axis = 1) )"
      ],
      "metadata": {
        "id": "o6Q_-Yp_Ezhm"
      },
      "id": "o6Q_-Yp_Ezhm",
      "execution_count": 29,
      "outputs": []
    },
    {
      "cell_type": "code",
      "source": [
        "period_0.head()"
      ],
      "metadata": {
        "colab": {
          "base_uri": "https://localhost:8080/",
          "height": 204
        },
        "id": "g5xHUXKDIVfY",
        "outputId": "5debdb2f-fe47-43a3-bcc6-3f05f9b029c6"
      },
      "id": "g5xHUXKDIVfY",
      "execution_count": 30,
      "outputs": [
        {
          "output_type": "execute_result",
          "data": {
            "text/plain": [
              "   Age  Seniority  Orders  Items  AverageDiscount  \\\n",
              "0   21          2       4      7             0.14   \n",
              "1   22          0       4      5             0.50   \n",
              "2   22          1       2      6             0.37   \n",
              "3   19          0       2      8             0.60   \n",
              "4   25          1       1      5             0.58   \n",
              "\n",
              "                     TopCategory  BrowsingTime  EmailsOpened  \\\n",
              "0       Clothing,Shoes & Jewelry     68.473629             3   \n",
              "1                   Toys & Games     29.258063             1   \n",
              "2  Health, Household & Baby Care     11.515517             0   \n",
              "3                   Toys & Games     74.495861             1   \n",
              "4                   Toys & Games      1.682705             2   \n",
              "\n",
              "   SupportInteractions  TotalCart  \n",
              "0                    2      34.00  \n",
              "1                    0      28.28  \n",
              "2                    0      19.33  \n",
              "3                    0      26.83  \n",
              "4                    1      17.67  "
            ],
            "text/html": [
              "\n",
              "  <div id=\"df-f908da6f-6a63-49e6-8842-92e96c4ecf9e\">\n",
              "    <div class=\"colab-df-container\">\n",
              "      <div>\n",
              "<style scoped>\n",
              "    .dataframe tbody tr th:only-of-type {\n",
              "        vertical-align: middle;\n",
              "    }\n",
              "\n",
              "    .dataframe tbody tr th {\n",
              "        vertical-align: top;\n",
              "    }\n",
              "\n",
              "    .dataframe thead th {\n",
              "        text-align: right;\n",
              "    }\n",
              "</style>\n",
              "<table border=\"1\" class=\"dataframe\">\n",
              "  <thead>\n",
              "    <tr style=\"text-align: right;\">\n",
              "      <th></th>\n",
              "      <th>Age</th>\n",
              "      <th>Seniority</th>\n",
              "      <th>Orders</th>\n",
              "      <th>Items</th>\n",
              "      <th>AverageDiscount</th>\n",
              "      <th>TopCategory</th>\n",
              "      <th>BrowsingTime</th>\n",
              "      <th>EmailsOpened</th>\n",
              "      <th>SupportInteractions</th>\n",
              "      <th>TotalCart</th>\n",
              "    </tr>\n",
              "  </thead>\n",
              "  <tbody>\n",
              "    <tr>\n",
              "      <th>0</th>\n",
              "      <td>21</td>\n",
              "      <td>2</td>\n",
              "      <td>4</td>\n",
              "      <td>7</td>\n",
              "      <td>0.14</td>\n",
              "      <td>Clothing,Shoes &amp; Jewelry</td>\n",
              "      <td>68.473629</td>\n",
              "      <td>3</td>\n",
              "      <td>2</td>\n",
              "      <td>34.00</td>\n",
              "    </tr>\n",
              "    <tr>\n",
              "      <th>1</th>\n",
              "      <td>22</td>\n",
              "      <td>0</td>\n",
              "      <td>4</td>\n",
              "      <td>5</td>\n",
              "      <td>0.50</td>\n",
              "      <td>Toys &amp; Games</td>\n",
              "      <td>29.258063</td>\n",
              "      <td>1</td>\n",
              "      <td>0</td>\n",
              "      <td>28.28</td>\n",
              "    </tr>\n",
              "    <tr>\n",
              "      <th>2</th>\n",
              "      <td>22</td>\n",
              "      <td>1</td>\n",
              "      <td>2</td>\n",
              "      <td>6</td>\n",
              "      <td>0.37</td>\n",
              "      <td>Health, Household &amp; Baby Care</td>\n",
              "      <td>11.515517</td>\n",
              "      <td>0</td>\n",
              "      <td>0</td>\n",
              "      <td>19.33</td>\n",
              "    </tr>\n",
              "    <tr>\n",
              "      <th>3</th>\n",
              "      <td>19</td>\n",
              "      <td>0</td>\n",
              "      <td>2</td>\n",
              "      <td>8</td>\n",
              "      <td>0.60</td>\n",
              "      <td>Toys &amp; Games</td>\n",
              "      <td>74.495861</td>\n",
              "      <td>1</td>\n",
              "      <td>0</td>\n",
              "      <td>26.83</td>\n",
              "    </tr>\n",
              "    <tr>\n",
              "      <th>4</th>\n",
              "      <td>25</td>\n",
              "      <td>1</td>\n",
              "      <td>1</td>\n",
              "      <td>5</td>\n",
              "      <td>0.58</td>\n",
              "      <td>Toys &amp; Games</td>\n",
              "      <td>1.682705</td>\n",
              "      <td>2</td>\n",
              "      <td>1</td>\n",
              "      <td>17.67</td>\n",
              "    </tr>\n",
              "  </tbody>\n",
              "</table>\n",
              "</div>\n",
              "      <button class=\"colab-df-convert\" onclick=\"convertToInteractive('df-f908da6f-6a63-49e6-8842-92e96c4ecf9e')\"\n",
              "              title=\"Convert this dataframe to an interactive table.\"\n",
              "              style=\"display:none;\">\n",
              "        \n",
              "  <svg xmlns=\"http://www.w3.org/2000/svg\" height=\"24px\"viewBox=\"0 0 24 24\"\n",
              "       width=\"24px\">\n",
              "    <path d=\"M0 0h24v24H0V0z\" fill=\"none\"/>\n",
              "    <path d=\"M18.56 5.44l.94 2.06.94-2.06 2.06-.94-2.06-.94-.94-2.06-.94 2.06-2.06.94zm-11 1L8.5 8.5l.94-2.06 2.06-.94-2.06-.94L8.5 2.5l-.94 2.06-2.06.94zm10 10l.94 2.06.94-2.06 2.06-.94-2.06-.94-.94-2.06-.94 2.06-2.06.94z\"/><path d=\"M17.41 7.96l-1.37-1.37c-.4-.4-.92-.59-1.43-.59-.52 0-1.04.2-1.43.59L10.3 9.45l-7.72 7.72c-.78.78-.78 2.05 0 2.83L4 21.41c.39.39.9.59 1.41.59.51 0 1.02-.2 1.41-.59l7.78-7.78 2.81-2.81c.8-.78.8-2.07 0-2.86zM5.41 20L4 18.59l7.72-7.72 1.47 1.35L5.41 20z\"/>\n",
              "  </svg>\n",
              "      </button>\n",
              "      \n",
              "  <style>\n",
              "    .colab-df-container {\n",
              "      display:flex;\n",
              "      flex-wrap:wrap;\n",
              "      gap: 12px;\n",
              "    }\n",
              "\n",
              "    .colab-df-convert {\n",
              "      background-color: #E8F0FE;\n",
              "      border: none;\n",
              "      border-radius: 50%;\n",
              "      cursor: pointer;\n",
              "      display: none;\n",
              "      fill: #1967D2;\n",
              "      height: 32px;\n",
              "      padding: 0 0 0 0;\n",
              "      width: 32px;\n",
              "    }\n",
              "\n",
              "    .colab-df-convert:hover {\n",
              "      background-color: #E2EBFA;\n",
              "      box-shadow: 0px 1px 2px rgba(60, 64, 67, 0.3), 0px 1px 3px 1px rgba(60, 64, 67, 0.15);\n",
              "      fill: #174EA6;\n",
              "    }\n",
              "\n",
              "    [theme=dark] .colab-df-convert {\n",
              "      background-color: #3B4455;\n",
              "      fill: #D2E3FC;\n",
              "    }\n",
              "\n",
              "    [theme=dark] .colab-df-convert:hover {\n",
              "      background-color: #434B5C;\n",
              "      box-shadow: 0px 1px 3px 1px rgba(0, 0, 0, 0.15);\n",
              "      filter: drop-shadow(0px 1px 2px rgba(0, 0, 0, 0.3));\n",
              "      fill: #FFFFFF;\n",
              "    }\n",
              "  </style>\n",
              "\n",
              "      <script>\n",
              "        const buttonEl =\n",
              "          document.querySelector('#df-f908da6f-6a63-49e6-8842-92e96c4ecf9e button.colab-df-convert');\n",
              "        buttonEl.style.display =\n",
              "          google.colab.kernel.accessAllowed ? 'block' : 'none';\n",
              "\n",
              "        async function convertToInteractive(key) {\n",
              "          const element = document.querySelector('#df-f908da6f-6a63-49e6-8842-92e96c4ecf9e');\n",
              "          const dataTable =\n",
              "            await google.colab.kernel.invokeFunction('convertToInteractive',\n",
              "                                                     [key], {});\n",
              "          if (!dataTable) return;\n",
              "\n",
              "          const docLinkHtml = 'Like what you see? Visit the ' +\n",
              "            '<a target=\"_blank\" href=https://colab.research.google.com/notebooks/data_table.ipynb>data table notebook</a>'\n",
              "            + ' to learn more about interactive tables.';\n",
              "          element.innerHTML = '';\n",
              "          dataTable['output_type'] = 'display_data';\n",
              "          await google.colab.output.renderOutput(dataTable, element);\n",
              "          const docLink = document.createElement('div');\n",
              "          docLink.innerHTML = docLinkHtml;\n",
              "          element.appendChild(docLink);\n",
              "        }\n",
              "      </script>\n",
              "    </div>\n",
              "  </div>\n",
              "  "
            ]
          },
          "metadata": {},
          "execution_count": 30
        }
      ]
    },
    {
      "cell_type": "code",
      "source": [
        "period_0_normalized.describe() # test"
      ],
      "metadata": {
        "colab": {
          "base_uri": "https://localhost:8080/",
          "height": 297
        },
        "id": "M3NxXxsIGOmO",
        "outputId": "9d94e79e-9394-482d-f2b3-62454fe93ee0"
      },
      "id": "M3NxXxsIGOmO",
      "execution_count": 31,
      "outputs": [
        {
          "output_type": "execute_result",
          "data": {
            "text/plain": [
              "                Age     Seniority        Orders         Items  \\\n",
              "count  1.000000e+03  1.000000e+03  1.000000e+03  1.000000e+03   \n",
              "mean   1.811884e-16 -8.881784e-18 -5.684342e-17  1.438849e-16   \n",
              "std    1.000000e+00  1.000000e+00  1.000000e+00  1.000000e+00   \n",
              "min   -3.373700e+00 -7.055185e-01 -1.739017e+00 -2.073613e+00   \n",
              "25%   -6.065900e-01 -7.055185e-01 -5.839078e-01 -8.231932e-01   \n",
              "50%   -1.363790e-02 -7.055185e-01 -6.353101e-03  1.042017e-02   \n",
              "75%    5.793142e-01  6.832974e-01  5.712016e-01  4.272268e-01   \n",
              "max    3.346424e+00  4.849745e+00  3.458975e+00  3.761680e+00   \n",
              "\n",
              "       AverageDiscount  BrowsingTime  EmailsOpened  SupportInteractions  \\\n",
              "count     1.000000e+03  1.000000e+03  1.000000e+03         1.000000e+03   \n",
              "mean      1.101341e-16  1.776357e-17  1.776357e-17        -2.131628e-17   \n",
              "std       1.000000e+00  1.000000e+00  1.000000e+00         1.000000e+00   \n",
              "min      -1.696229e+00 -9.771858e-01 -9.861027e-01        -9.900177e-01   \n",
              "25%      -8.748107e-01 -6.846314e-01 -9.861027e-01        -9.900177e-01   \n",
              "50%       3.787652e-02 -2.984538e-01  1.096778e-02        -1.173934e-02   \n",
              "75%       8.592950e-01  2.905010e-01  1.008038e+00         9.665390e-01   \n",
              "max       1.726348e+00  7.314477e+00  3.999250e+00         5.857931e+00   \n",
              "\n",
              "          TotalCart  \n",
              "count  1.000000e+03  \n",
              "mean   1.350031e-16  \n",
              "std    1.000000e+00  \n",
              "min   -2.036660e+00  \n",
              "25%   -5.851161e-01  \n",
              "50%   -1.265247e-01  \n",
              "75%    4.477078e-01  \n",
              "max    5.845663e+00  "
            ],
            "text/html": [
              "\n",
              "  <div id=\"df-a50a6f8d-4fc5-4726-830b-a52919fff152\">\n",
              "    <div class=\"colab-df-container\">\n",
              "      <div>\n",
              "<style scoped>\n",
              "    .dataframe tbody tr th:only-of-type {\n",
              "        vertical-align: middle;\n",
              "    }\n",
              "\n",
              "    .dataframe tbody tr th {\n",
              "        vertical-align: top;\n",
              "    }\n",
              "\n",
              "    .dataframe thead th {\n",
              "        text-align: right;\n",
              "    }\n",
              "</style>\n",
              "<table border=\"1\" class=\"dataframe\">\n",
              "  <thead>\n",
              "    <tr style=\"text-align: right;\">\n",
              "      <th></th>\n",
              "      <th>Age</th>\n",
              "      <th>Seniority</th>\n",
              "      <th>Orders</th>\n",
              "      <th>Items</th>\n",
              "      <th>AverageDiscount</th>\n",
              "      <th>BrowsingTime</th>\n",
              "      <th>EmailsOpened</th>\n",
              "      <th>SupportInteractions</th>\n",
              "      <th>TotalCart</th>\n",
              "    </tr>\n",
              "  </thead>\n",
              "  <tbody>\n",
              "    <tr>\n",
              "      <th>count</th>\n",
              "      <td>1.000000e+03</td>\n",
              "      <td>1.000000e+03</td>\n",
              "      <td>1.000000e+03</td>\n",
              "      <td>1.000000e+03</td>\n",
              "      <td>1.000000e+03</td>\n",
              "      <td>1.000000e+03</td>\n",
              "      <td>1.000000e+03</td>\n",
              "      <td>1.000000e+03</td>\n",
              "      <td>1.000000e+03</td>\n",
              "    </tr>\n",
              "    <tr>\n",
              "      <th>mean</th>\n",
              "      <td>1.811884e-16</td>\n",
              "      <td>-8.881784e-18</td>\n",
              "      <td>-5.684342e-17</td>\n",
              "      <td>1.438849e-16</td>\n",
              "      <td>1.101341e-16</td>\n",
              "      <td>1.776357e-17</td>\n",
              "      <td>1.776357e-17</td>\n",
              "      <td>-2.131628e-17</td>\n",
              "      <td>1.350031e-16</td>\n",
              "    </tr>\n",
              "    <tr>\n",
              "      <th>std</th>\n",
              "      <td>1.000000e+00</td>\n",
              "      <td>1.000000e+00</td>\n",
              "      <td>1.000000e+00</td>\n",
              "      <td>1.000000e+00</td>\n",
              "      <td>1.000000e+00</td>\n",
              "      <td>1.000000e+00</td>\n",
              "      <td>1.000000e+00</td>\n",
              "      <td>1.000000e+00</td>\n",
              "      <td>1.000000e+00</td>\n",
              "    </tr>\n",
              "    <tr>\n",
              "      <th>min</th>\n",
              "      <td>-3.373700e+00</td>\n",
              "      <td>-7.055185e-01</td>\n",
              "      <td>-1.739017e+00</td>\n",
              "      <td>-2.073613e+00</td>\n",
              "      <td>-1.696229e+00</td>\n",
              "      <td>-9.771858e-01</td>\n",
              "      <td>-9.861027e-01</td>\n",
              "      <td>-9.900177e-01</td>\n",
              "      <td>-2.036660e+00</td>\n",
              "    </tr>\n",
              "    <tr>\n",
              "      <th>25%</th>\n",
              "      <td>-6.065900e-01</td>\n",
              "      <td>-7.055185e-01</td>\n",
              "      <td>-5.839078e-01</td>\n",
              "      <td>-8.231932e-01</td>\n",
              "      <td>-8.748107e-01</td>\n",
              "      <td>-6.846314e-01</td>\n",
              "      <td>-9.861027e-01</td>\n",
              "      <td>-9.900177e-01</td>\n",
              "      <td>-5.851161e-01</td>\n",
              "    </tr>\n",
              "    <tr>\n",
              "      <th>50%</th>\n",
              "      <td>-1.363790e-02</td>\n",
              "      <td>-7.055185e-01</td>\n",
              "      <td>-6.353101e-03</td>\n",
              "      <td>1.042017e-02</td>\n",
              "      <td>3.787652e-02</td>\n",
              "      <td>-2.984538e-01</td>\n",
              "      <td>1.096778e-02</td>\n",
              "      <td>-1.173934e-02</td>\n",
              "      <td>-1.265247e-01</td>\n",
              "    </tr>\n",
              "    <tr>\n",
              "      <th>75%</th>\n",
              "      <td>5.793142e-01</td>\n",
              "      <td>6.832974e-01</td>\n",
              "      <td>5.712016e-01</td>\n",
              "      <td>4.272268e-01</td>\n",
              "      <td>8.592950e-01</td>\n",
              "      <td>2.905010e-01</td>\n",
              "      <td>1.008038e+00</td>\n",
              "      <td>9.665390e-01</td>\n",
              "      <td>4.477078e-01</td>\n",
              "    </tr>\n",
              "    <tr>\n",
              "      <th>max</th>\n",
              "      <td>3.346424e+00</td>\n",
              "      <td>4.849745e+00</td>\n",
              "      <td>3.458975e+00</td>\n",
              "      <td>3.761680e+00</td>\n",
              "      <td>1.726348e+00</td>\n",
              "      <td>7.314477e+00</td>\n",
              "      <td>3.999250e+00</td>\n",
              "      <td>5.857931e+00</td>\n",
              "      <td>5.845663e+00</td>\n",
              "    </tr>\n",
              "  </tbody>\n",
              "</table>\n",
              "</div>\n",
              "      <button class=\"colab-df-convert\" onclick=\"convertToInteractive('df-a50a6f8d-4fc5-4726-830b-a52919fff152')\"\n",
              "              title=\"Convert this dataframe to an interactive table.\"\n",
              "              style=\"display:none;\">\n",
              "        \n",
              "  <svg xmlns=\"http://www.w3.org/2000/svg\" height=\"24px\"viewBox=\"0 0 24 24\"\n",
              "       width=\"24px\">\n",
              "    <path d=\"M0 0h24v24H0V0z\" fill=\"none\"/>\n",
              "    <path d=\"M18.56 5.44l.94 2.06.94-2.06 2.06-.94-2.06-.94-.94-2.06-.94 2.06-2.06.94zm-11 1L8.5 8.5l.94-2.06 2.06-.94-2.06-.94L8.5 2.5l-.94 2.06-2.06.94zm10 10l.94 2.06.94-2.06 2.06-.94-2.06-.94-.94-2.06-.94 2.06-2.06.94z\"/><path d=\"M17.41 7.96l-1.37-1.37c-.4-.4-.92-.59-1.43-.59-.52 0-1.04.2-1.43.59L10.3 9.45l-7.72 7.72c-.78.78-.78 2.05 0 2.83L4 21.41c.39.39.9.59 1.41.59.51 0 1.02-.2 1.41-.59l7.78-7.78 2.81-2.81c.8-.78.8-2.07 0-2.86zM5.41 20L4 18.59l7.72-7.72 1.47 1.35L5.41 20z\"/>\n",
              "  </svg>\n",
              "      </button>\n",
              "      \n",
              "  <style>\n",
              "    .colab-df-container {\n",
              "      display:flex;\n",
              "      flex-wrap:wrap;\n",
              "      gap: 12px;\n",
              "    }\n",
              "\n",
              "    .colab-df-convert {\n",
              "      background-color: #E8F0FE;\n",
              "      border: none;\n",
              "      border-radius: 50%;\n",
              "      cursor: pointer;\n",
              "      display: none;\n",
              "      fill: #1967D2;\n",
              "      height: 32px;\n",
              "      padding: 0 0 0 0;\n",
              "      width: 32px;\n",
              "    }\n",
              "\n",
              "    .colab-df-convert:hover {\n",
              "      background-color: #E2EBFA;\n",
              "      box-shadow: 0px 1px 2px rgba(60, 64, 67, 0.3), 0px 1px 3px 1px rgba(60, 64, 67, 0.15);\n",
              "      fill: #174EA6;\n",
              "    }\n",
              "\n",
              "    [theme=dark] .colab-df-convert {\n",
              "      background-color: #3B4455;\n",
              "      fill: #D2E3FC;\n",
              "    }\n",
              "\n",
              "    [theme=dark] .colab-df-convert:hover {\n",
              "      background-color: #434B5C;\n",
              "      box-shadow: 0px 1px 3px 1px rgba(0, 0, 0, 0.15);\n",
              "      filter: drop-shadow(0px 1px 2px rgba(0, 0, 0, 0.3));\n",
              "      fill: #FFFFFF;\n",
              "    }\n",
              "  </style>\n",
              "\n",
              "      <script>\n",
              "        const buttonEl =\n",
              "          document.querySelector('#df-a50a6f8d-4fc5-4726-830b-a52919fff152 button.colab-df-convert');\n",
              "        buttonEl.style.display =\n",
              "          google.colab.kernel.accessAllowed ? 'block' : 'none';\n",
              "\n",
              "        async function convertToInteractive(key) {\n",
              "          const element = document.querySelector('#df-a50a6f8d-4fc5-4726-830b-a52919fff152');\n",
              "          const dataTable =\n",
              "            await google.colab.kernel.invokeFunction('convertToInteractive',\n",
              "                                                     [key], {});\n",
              "          if (!dataTable) return;\n",
              "\n",
              "          const docLinkHtml = 'Like what you see? Visit the ' +\n",
              "            '<a target=\"_blank\" href=https://colab.research.google.com/notebooks/data_table.ipynb>data table notebook</a>'\n",
              "            + ' to learn more about interactive tables.';\n",
              "          element.innerHTML = '';\n",
              "          dataTable['output_type'] = 'display_data';\n",
              "          await google.colab.output.renderOutput(dataTable, element);\n",
              "          const docLink = document.createElement('div');\n",
              "          docLink.innerHTML = docLinkHtml;\n",
              "          element.appendChild(docLink);\n",
              "        }\n",
              "      </script>\n",
              "    </div>\n",
              "  </div>\n",
              "  "
            ]
          },
          "metadata": {},
          "execution_count": 31
        }
      ]
    },
    {
      "cell_type": "code",
      "source": [
        "\n",
        "# Définir les noms de colonnes numériques\n",
        "numeric_cols = period_0._get_numeric_data().columns\n",
        "\n",
        "# Définir les distances de Wasserstein pour chaque variable et chaque période\n",
        "W_values = []\n",
        "for i in range(1, 4):\n",
        "    df_name = f\"period_{i}_normalized\"\n",
        "    df_i = globals()[df_name]\n",
        "    print(\"Distances de Wasserstein entre la période 0 et la période\", i, \":\")\n",
        "    W_values.append([WassersteinDistance(period_0_normalized[col], df_i[col], 1) for col in numeric_cols])\n",
        "    for col, distance in zip(numeric_cols, W_values[i-1]):\n",
        "        print(col+\":\", distance)\n",
        "    print(\"\\n\")\n",
        "\n",
        "# Tracer le graphique en barres pour chaque variable\n",
        "for i in range(len(numeric_cols)):\n",
        "    plt.bar(np.arange(1, 4), [W_values[j][i] for j in range(3)], align='center')\n",
        "    plt.xticks(np.arange(1, 4), [\"Période 1\", \"Période 2\", \"Période 3\"])\n",
        "    plt.title(f\"Wasserstein Distance  {numeric_cols[i]}\")\n",
        "    plt.ylabel(\"Wasserstein Distance\")\n",
        "    plt.show()"
      ],
      "metadata": {
        "colab": {
          "base_uri": "https://localhost:8080/",
          "height": 1000
        },
        "id": "eyFsmQ2J3OKN",
        "outputId": "897318ec-2ff7-431e-f79f-a5012a65736c"
      },
      "id": "eyFsmQ2J3OKN",
      "execution_count": 32,
      "outputs": [
        {
          "output_type": "stream",
          "name": "stdout",
          "text": [
            "Distances de Wasserstein entre la période 0 et la période 1 :\n",
            "Age: 0.03864116323982042\n",
            "Seniority: 0.3494246396412803\n",
            "Orders: 0.23285465920234252\n",
            "Items: 0.20267224001714915\n",
            "AverageDiscount: 0.03126792140518978\n",
            "BrowsingTime: 0.041487633382364435\n",
            "EmailsOpened: 0.08446852256890142\n",
            "SupportInteractions: 0.0931322701149756\n",
            "TotalCart: 0.08123669659559345\n",
            "\n",
            "\n",
            "Distances de Wasserstein entre la période 0 et la période 2 :\n",
            "Age: 0.08597101734827672\n",
            "Seniority: 0.44308099447689675\n",
            "Orders: 0.242585884950605\n",
            "Items: 0.10015060199832976\n",
            "AverageDiscount: 0.036732960906757525\n",
            "BrowsingTime: 0.06808592333092538\n",
            "EmailsOpened: 0.11551917411686739\n",
            "SupportInteractions: 0.05053935873508635\n",
            "TotalCart: 0.09217964567686793\n",
            "\n",
            "\n",
            "Distances de Wasserstein entre la période 0 et la période 3 :\n",
            "Age: 0.088436615828875\n",
            "Seniority: 0.41601673226394237\n",
            "Orders: 0.20197417675217846\n",
            "Items: 0.1738377462422116\n",
            "AverageDiscount: 0.038619050435617655\n",
            "BrowsingTime: 0.06094215670777304\n",
            "EmailsOpened: 0.1250882987011368\n",
            "SupportInteractions: 0.04317907660096638\n",
            "TotalCart: 0.13098279910405744\n",
            "\n",
            "\n"
          ]
        },
        {
          "output_type": "display_data",
          "data": {
            "text/plain": [
              "<Figure size 432x288 with 1 Axes>"
            ],
            "image/png": "[encoded data removed]"
          },
          "metadata": {
            "needs_background": "light"
          }
        },
        {
          "output_type": "display_data",
          "data": {
            "text/plain": [
              "<Figure size 432x288 with 1 Axes>"
            ],
            "image/png": "[encoded data removed]"
          },
          "metadata": {
            "needs_background": "light"
          }
        },
        {
          "output_type": "display_data",
          "data": {
            "text/plain": [
              "<Figure size 432x288 with 1 Axes>"
            ],
            "image/png": "[encoded data removed]"
          },
          "metadata": {
            "needs_background": "light"
          }
        },
        {
          "output_type": "display_data",
          "data": {
            "text/plain": [
              "<Figure size 432x288 with 1 Axes>"
            ],
            "image/png": "[encoded data removed]"
          },
          "metadata": {
            "needs_background": "light"
          }
        },
        {
          "output_type": "display_data",
          "data": {
            "text/plain": [
              "<Figure size 432x288 with 1 Axes>"
            ],
            "image/png": "[encoded data removed]"
          },
          "metadata": {
            "needs_background": "light"
          }
        },
        {
          "output_type": "display_data",
          "data": {
            "text/plain": [
              "<Figure size 432x288 with 1 Axes>"
            ],
            "image/png": "[encoded data removed]"
          },
          "metadata": {
            "needs_background": "light"
          }
        },
        {
          "output_type": "display_data",
          "data": {
            "text/plain": [
              "<Figure size 432x288 with 1 Axes>"
            ],
            "image/png": "[encoded data removed]"
          },
          "metadata": {
            "needs_background": "light"
          }
        },
        {
          "output_type": "display_data",
          "data": {
            "text/plain": [
              "<Figure size 432x288 with 1 Axes>"
            ],
            "image/png": "[encoded data removed]"
          },
          "metadata": {
            "needs_background": "light"
          }
        },
        {
          "output_type": "display_data",
          "data": {
            "text/plain": [
              "<Figure size 432x288 with 1 Axes>"
            ],
            "image/png": "[encoded data removed]"
          },
          "metadata": {
            "needs_background": "light"
          }
        }
      ]
    },
    {
      "cell_type": "markdown",
      "source": [
        "La distance de Wasserstein est une mesure de la similarité entre deux distributions de probabilité, donc ces résultats indiquent la différence entre la distribution de chaque variable à la période 0 et la distribution de chaque variable à chaque période respective (1, 2, 3)."
      ],
      "metadata": {
        "id": "2S-IDYfPyBWE"
      },
      "id": "2S-IDYfPyBWE"
    },
    {
      "cell_type": "code",
      "source": [
        "# Calcul de la distance de Wasserstein pour la variable TotalCart pour chaque période par rapport à la période 0\n",
        "w1 = WassersteinDistance(period_0_normalized['TotalCart'], period_1_normalized['TotalCart'], 1)\n",
        "w2 = WassersteinDistance(period_0_normalized['TotalCart'], period_2_normalized['TotalCart'], 1)\n",
        "w3 = WassersteinDistance(period_0_normalized['TotalCart'], period_3_normalized['TotalCart'], 1)\n",
        "\n",
        "# Définir les étiquettes d'axe pour le graphique\n",
        "periods = ['Période 1', 'Période 2', 'Période 3']\n",
        "\n",
        "# Définir les valeurs de Distance de Wasserstein pour chaque période\n",
        "W_values = [w1, w2, w3]\n",
        "\n",
        "# Tracer le graphique en barres\n",
        "plt.bar(periods, W_values)\n",
        "\n",
        "plt.title('Distance de Wasserstein entre les distributions TotalCart')\n",
        "plt.ylabel('Distance de Wasserstein')\n",
        "\n",
        "print(\"Distance de Wasserstein TotalCart - Period 1 : \", w1)\n",
        "print(\"Distance de Wasserstein TotalCart - Period 2 : \", w2)\n",
        "print(\"Distance de Wasserstein TotalCart - Period 3 : \", w3)\n",
        "print(\"__________________________________________________\")\n",
        "\n",
        "# Afficher le graphique\n",
        "plt.show()"
      ],
      "metadata": {
        "colab": {
          "base_uri": "https://localhost:8080/",
          "height": 349
        },
        "id": "KErvUfiwooz7",
        "outputId": "9efdaec3-75d9-4c68-9703-97b89437678f"
      },
      "id": "KErvUfiwooz7",
      "execution_count": 33,
      "outputs": [
        {
          "output_type": "stream",
          "name": "stdout",
          "text": [
            "Distance de Wasserstein TotalCart - Period 1 :  0.08123669659559345\n",
            "Distance de Wasserstein TotalCart - Period 2 :  0.09217964567686793\n",
            "Distance de Wasserstein TotalCart - Period 3 :  0.13098279910405744\n",
            "__________________________________________________\n"
          ]
        },
        {
          "output_type": "display_data",
          "data": {
            "text/plain": [
              "<Figure size 432x288 with 1 Axes>"
            ],
            "image/png": "[encoded data removed]"
          },
          "metadata": {
            "needs_background": "light"
          }
        }
      ]
    },
    {
      "cell_type": "markdown",
      "source": [
        "On observe que la distance de Wasserstein pour TotalCart est plus grande que pour les autres variables, ce qui signifie que la distribution de TotalCart à chaque période est plus différente de celle de la période 0 que les autres variables. Cela pourrait indiquer une possible dérive dans les données pour cette variable et que la distribution de la variable TotalCart a changé entre la période 0 et les périodes 1 à 3.\n",
        "\n",
        "Nous allons maintenant comparer la distribution de la variable TopCategory pour chaque période à l'aide de la divergence de Kullback-Leibler. Nous allons comparer chaque période à la période 0."
      ],
      "metadata": {
        "id": "43X3oW_-pB-w"
      },
      "id": "43X3oW_-pB-w"
    },
    {
      "cell_type": "code",
      "source": [
        "# Calcul de la divergence de Kullback-Leibler pour la variable TopCategory pour chaque période par rapport à la période 0\n",
        "p0 = period_0['TopCategory'].value_counts(normalize=True)\n",
        "p1 = period_1['TopCategory'].value_counts(normalize=True)\n",
        "p2 = period_2['TopCategory'].value_counts(normalize=True)\n",
        "p3 = period_3['TopCategory'].value_counts(normalize=True)\n",
        "\n",
        "k1 = KLDivergence(p0, p1)\n",
        "k2 = KLDivergence(p0, p2)\n",
        "k3 = KLDivergence(p0, p3)\n",
        "\n",
        "# Définir les valeurs de KL divergence pour chaque période\n",
        "KL_values = [k1, k2, k3]\n",
        "\n",
        "plt.bar(periods, KL_values)\n",
        "plt.title('Divergence de Kullback-Leibler entre les distributions TopCategory')\n",
        "plt.ylabel('KL Divergence')\n",
        "\n",
        "print(\"Divergence de Kullback-Leibler TopCategory - Period 1 : \", k1)\n",
        "print(\"Divergence de Kullback-Leibler TopCategory - Period 2 : \", k2)\n",
        "print(\"Divergence de Kullback-Leibler TopCategory - Period 3 : \", k3)\n",
        "print(\"__________________________________________________\")\n",
        "\n",
        "# Afficher le graphique\n",
        "plt.show()"
      ],
      "metadata": {
        "colab": {
          "base_uri": "https://localhost:8080/",
          "height": 349
        },
        "id": "-gxqwerOpC1v",
        "outputId": "e1a97069-8fd1-4801-e22e-5ae6d88bc258"
      },
      "id": "-gxqwerOpC1v",
      "execution_count": 34,
      "outputs": [
        {
          "output_type": "stream",
          "name": "stdout",
          "text": [
            "Divergence de Kullback-Leibler TopCategory - Period 1 :  0.01788286673757212\n",
            "Divergence de Kullback-Leibler TopCategory - Period 2 :  0.01961760514838459\n",
            "Divergence de Kullback-Leibler TopCategory - Period 3 :  0.041368125368780005\n",
            "__________________________________________________\n"
          ]
        },
        {
          "output_type": "display_data",
          "data": {
            "text/plain": [
              "<Figure size 432x288 with 1 Axes>"
            ],
            "image/png": "[encoded data removed]"
          },
          "metadata": {
            "needs_background": "light"
          }
        }
      ]
    },
    {
      "cell_type": "markdown",
      "source": [
        "La divergence de Kullback-Leibler mesure également la différence entre deux distributions de probabilité, mais elle est asymétrique, donc la divergence KL entre P et Q n'est pas la même que la divergence KL entre Q et P. On peut voir que la divergence de KL pour TopCategory est plus grande à la période 3 que pour les autres périodes (augmente au cours du temps), indiquant peut-être une plus grande différence entre la distribution de TopCategory à la période 3 et celle de la période 0.\n",
        "\n"
      ],
      "metadata": {
        "id": "LH7Zj8Xmrl8o"
      },
      "id": "LH7Zj8Xmrl8o"
    },
    {
      "cell_type": "code",
      "source": [
        "k1 = JSDivergence(p0, p1)\n",
        "k2 = JSDivergence(p0, p2)\n",
        "k3 = JSDivergence(p0, p3)\n",
        "\n",
        "# Définir les valeurs de JS divergence pour chaque période\n",
        "JS_values = [k1, k2, k3]\n",
        "\n",
        "plt.bar(periods, JS_values)\n",
        "plt.title('Divergence de Jensen-Shannon entre les distributions TopCategory')\n",
        "plt.ylabel('JS Divergence')\n",
        "\n",
        "\n",
        "print(\"Divergence de Jensen-Shannon TopCategory - Period 1 : \", k1)\n",
        "print(\"Divergence de Jensen-Shannon TopCategory - Period 2 : \", k2)\n",
        "print(\"Divergence de Jensen-Shannon TopCategory - Period 3 : \", k3)\n",
        "print(\"__________________________________________________\")\n",
        "\n",
        "# Afficher le graphique\n",
        "plt.show()"
      ],
      "metadata": {
        "colab": {
          "base_uri": "https://localhost:8080/",
          "height": 349
        },
        "id": "O2jbn1PCsZAF",
        "outputId": "8b923b26-fcc3-450f-82f9-ee9bb30cd4b0"
      },
      "id": "O2jbn1PCsZAF",
      "execution_count": 35,
      "outputs": [
        {
          "output_type": "stream",
          "name": "stdout",
          "text": [
            "Divergence de Jensen-Shannon TopCategory - Period 1 :  0.004543012975517582\n",
            "Divergence de Jensen-Shannon TopCategory - Period 2 :  0.004842393153548317\n",
            "Divergence de Jensen-Shannon TopCategory - Period 3 :  0.010243641370144203\n",
            "__________________________________________________\n"
          ]
        },
        {
          "output_type": "display_data",
          "data": {
            "text/plain": [
              "<Figure size 432x288 with 1 Axes>"
            ],
            "image/png": "[encoded data removed]"
          },
          "metadata": {
            "needs_background": "light"
          }
        }
      ]
    },
    {
      "cell_type": "markdown",
      "source": [
        "De même, on remarque qu'il y a une augmentation de la Divergence de Jensen-Shannon au cours du temps pour la variable TopCategorie."
      ],
      "metadata": {
        "id": "ofTT2biztcPW"
      },
      "id": "ofTT2biztcPW"
    },
    {
      "cell_type": "markdown",
      "source": [
        "En examinant les résultats, on constate que les distances de Wasserstein, les KL et JS divergences varient considérablement entre les différentes caractéristiques des données, mais globalement, les distances et les divergences sont relativement faibles.\n",
        "\n",
        "En résumé, bien que le modèle puisse être considéré comme performant, il est important de surveiller les caractéristiques individuelles et effectuer une mise à jour du modèle pour mieux s'adapter surtout aux données des périodes 2 et 3 et garantir des prédictions précises et fiables."
      ],
      "metadata": {
        "id": "F4Hxlt0IMXnA"
      },
      "id": "F4Hxlt0IMXnA"
    }
  ],
  "metadata": {
    "kernelspec": {
      "display_name": "Python 3 (ipykernel)",
      "language": "python",
      "name": "python3"
    },
    "language_info": {
      "codemirror_mode": {
        "name": "ipython",
        "version": 3
      },
      "file_extension": ".py",
      "mimetype": "text/x-python",
      "name": "python",
      "nbconvert_exporter": "python",
      "pygments_lexer": "ipython3",
      "version": "3.9.13"
    },
    "colab": {
      "provenance": [],
      "collapsed_sections": [
        "T0W00M810aX0",
        "K70W4i1104hu"
      ]
    }
  },
  "nbformat": 4,
  "nbformat_minor": 5
}